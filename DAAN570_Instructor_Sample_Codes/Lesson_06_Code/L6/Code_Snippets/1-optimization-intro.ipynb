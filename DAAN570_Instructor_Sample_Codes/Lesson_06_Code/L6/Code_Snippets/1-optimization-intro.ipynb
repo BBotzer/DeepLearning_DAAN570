{
 "cells": [
  {
   "cell_type": "markdown",
   "metadata": {
    "origin_pos": 0
   },
   "source": [
    "# Optimization and Deep Learning\n",
    "\n"
   ]
  },
  {
   "cell_type": "markdown",
   "metadata": {
    "origin_pos": 0
   },
   "source": [
    "## Goal of Optimization\n"
   ]
  },
  {
   "cell_type": "code",
   "execution_count": null,
   "metadata": {
    "origin_pos": 3,
    "tab": [
     "tensorflow"
    ]
   },
   "outputs": [],
   "source": [
    "%matplotlib inline\n",
    "import numpy as np\n",
    "import tensorflow as tf\n",
    "from mpl_toolkits import mplot3d\n",
    "from dl import tensorflow as dl\n"
   ]
  },
  {
   "cell_type": "code",
   "execution_count": null,
   "metadata": {
    "origin_pos": 5,
    "tab": [
     "tensorflow"
    ]
   },
   "outputs": [],
   "source": [
    "def f(x):\n",
    "    return x * tf.cos(np.pi * x)\n",
    "\n",
    "def g(x):\n",
    "    return f(x) + 0.2 * tf.cos(5 * np.pi * x)"
   ]
  },
  {
   "cell_type": "code",
   "execution_count": null,
   "metadata": {
    "origin_pos": 7,
    "scrolled": true,
    "tab": [
     "tensorflow"
    ]
   },
   "outputs": [],
   "source": [
    "def annotate(text, xy, xytext):  #@save\n",
    "    dl.plt.gca().annotate(text, xy=xy, xytext=xytext,\n",
    "                           arrowprops=dict(arrowstyle='->'))\n",
    "\n",
    "x = tf.range(0.5, 1.5, 0.01)\n",
    "dl.set_figsize((4.5, 2.5))\n",
    "dl.plot(x, [f(x), g(x)], 'x', 'risk')\n",
    "annotate('min of\\nempirical risk', (1.0, -1.2), (0.5, -1.1))\n",
    "annotate('min of risk', (1.1, -1.05), (0.95, -0.5))"
   ]
  },
  {
   "cell_type": "code",
   "execution_count": null,
   "metadata": {
    "origin_pos": 9,
    "tab": [
     "tensorflow"
    ]
   },
   "outputs": [],
   "source": [
    "x = tf.range(-1.0, 2.0, 0.01)\n",
    "dl.plot(x, [f(x),], 'x', 'f(x)')\n",
    "annotate('local minimum', (-0.3, -0.25), (-0.77, -1.0))\n",
    "annotate('global minimum', (1.1, -0.95), (0.6, 0.8))"
   ]
  },
  {
   "cell_type": "code",
   "execution_count": null,
   "metadata": {
    "origin_pos": 11,
    "tab": [
     "tensorflow"
    ]
   },
   "outputs": [],
   "source": [
    "x = tf.range(-2.0, 2.0, 0.01)\n",
    "dl.plot(x, [x**3], 'x', 'f(x)')\n",
    "annotate('saddle point', (0, -0.2), (-0.52, -5.0))"
   ]
  },
  {
   "cell_type": "code",
   "execution_count": null,
   "metadata": {
    "origin_pos": 13,
    "tab": [
     "tensorflow"
    ]
   },
   "outputs": [],
   "source": [
    "x, y = tf.meshgrid(tf.linspace(-1.0, 1.0, 101), tf.linspace(-1.0, 1.0, 101))\n",
    "z = x**2 - y**2\n",
    "\n",
    "ax = dl.plt.figure().add_subplot(111, projection='3d')\n",
    "ax.plot_wireframe(x, y, z, **{'rstride': 10, 'cstride': 10})\n",
    "ax.plot([0], [0], [0], 'rx')\n",
    "ticks = [-1, 0, 1]\n",
    "dl.plt.xticks(ticks)\n",
    "dl.plt.yticks(ticks)\n",
    "ax.set_zticks(ticks)\n",
    "dl.plt.xlabel('x')\n",
    "dl.plt.ylabel('y');"
   ]
  },
  {
   "cell_type": "code",
   "execution_count": null,
   "metadata": {
    "origin_pos": 15,
    "tab": [
     "tensorflow"
    ]
   },
   "outputs": [],
   "source": [
    "x = tf.range(-2.0, 5.0, 0.01)\n",
    "dl.plot(x, [tf.tanh(x)], 'x', 'f(x)')\n",
    "annotate('vanishing gradient', (4, 1), (2, 0.0))"
   ]
  },
  {
   "cell_type": "markdown",
   "metadata": {
    "origin_pos": 16
   },
   "source": [
    "## Exercises\n",
    "\n",
    "1. What other challenges involved in deep learning optimization can you think of?\n",
    "1. Assume that you want to balance a (real) ball on a (real) saddle.\n",
    "    1. Why is this hard?\n",
    "    1. Can you exploit this effect also for optimization algorithms?"
   ]
  }
 ],
 "metadata": {
  "kernelspec": {
   "display_name": "Python 3 (ipykernel)",
   "language": "python",
   "name": "python3"
  },
  "language_info": {
   "codemirror_mode": {
    "name": "ipython",
    "version": 3
   },
   "file_extension": ".py",
   "mimetype": "text/x-python",
   "name": "python",
   "nbconvert_exporter": "python",
   "pygments_lexer": "ipython3",
   "version": "3.10.11"
  },
  "toc": {
   "base_numbering": 1,
   "nav_menu": {},
   "number_sections": true,
   "sideBar": true,
   "skip_h1_title": false,
   "title_cell": "Table of Contents",
   "title_sidebar": "Contents",
   "toc_cell": false,
   "toc_position": {},
   "toc_section_display": true,
   "toc_window_display": false
  },
  "varInspector": {
   "cols": {
    "lenName": 16,
    "lenType": 16,
    "lenVar": 40
   },
   "kernels_config": {
    "python": {
     "delete_cmd_postfix": "",
     "delete_cmd_prefix": "del ",
     "library": "var_list.py",
     "varRefreshCmd": "print(var_dic_list())"
    },
    "r": {
     "delete_cmd_postfix": ") ",
     "delete_cmd_prefix": "rm(",
     "library": "var_list.r",
     "varRefreshCmd": "cat(var_dic_list()) "
    }
   },
   "types_to_exclude": [
    "module",
    "function",
    "builtin_function_or_method",
    "instance",
    "_Feature"
   ],
   "window_display": true
  }
 },
 "nbformat": 4,
 "nbformat_minor": 4
}
