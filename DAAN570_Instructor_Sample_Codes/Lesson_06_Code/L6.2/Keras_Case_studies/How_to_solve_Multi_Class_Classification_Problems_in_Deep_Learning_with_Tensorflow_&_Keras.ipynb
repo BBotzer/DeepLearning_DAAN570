{
 "cells": [
  {
   "cell_type": "markdown",
   "metadata": {
    "id": "7CSXR2ST-_9C"
   },
   "source": [
    "# How to solve Multi-Class Classification Problems"
   ]
  },
  {
   "cell_type": "markdown",
   "metadata": {
    "id": "xKAcP07G_PAP",
    "jp-MarkdownHeadingCollapsed": true,
    "tags": []
   },
   "source": [
    "# Objective\n",
    "\n",
    "This tutorial covers the **Multi-Class Classification** Problems in **Deep Learning** with **Tensorflow & Keras**."
   ]
  },
  {
   "cell_type": "markdown",
   "metadata": {
    "id": "cTp8rILehFDd"
   },
   "source": [
    "#  Import Dependencies"
   ]
  },
  {
   "cell_type": "code",
   "execution_count": null,
   "metadata": {
    "cellView": "form",
    "id": "cWXrCR9kFphX"
   },
   "outputs": [],
   "source": [
    "#@title Import Dependencies\n",
    "import tensorflow as tf\n",
    "import numpy as np\n",
    "import tensorflow_datasets as tfds\n",
    "from tensorflow import keras\n",
    "import matplotlib.pyplot as plt\n",
    "\n",
    "import warnings\n",
    "warnings.filterwarnings('ignore')"
   ]
  },
  {
   "cell_type": "code",
   "execution_count": null,
   "metadata": {},
   "outputs": [],
   "source": [
    "print(\"Num GPUs Available: \", len(tf.config.experimental.list_physical_devices('GPU')))"
   ]
  },
  {
   "cell_type": "markdown",
   "metadata": {
    "id": "xKAcP07G_PAP"
   },
   "source": [
    "First, we will download the MNIST dataset.\n",
    "\n",
    "In multi-class classification problems, we have **two options** to **encode** the true **labels**  by using either:\n",
    "\n",
    "* integer numbers, or\n",
    "* one-hot vector\n",
    "\n",
    "We will experiment with both encodings to observe the effect of the combinations of various last layer's activation functions and loss functions on a Keras CNN model's performance.\n",
    "\n",
    "\n",
    "In both experiments, we will discuss the relationship between\n",
    " ***Activation & Loss functions***,  ***label encodings***, and **accuracy metrics** in details.\n",
    "\n",
    "We will understand why sometimes we could get **suprising results** when using ***different*** parameter settings other than the generally **recommended** ones.\n",
    "\n",
    "As a result, we will **gain insight** about activation  and loss functions and their inteactions.\n",
    "\n",
    "If you are ready, let's get started!"
   ]
  },
  {
   "cell_type": "markdown",
   "metadata": {
    "id": "DGaP1tWlaW2E"
   },
   "source": [
    "---\n",
    "# Load a Multi-Label Dataset\n",
    "I pick the MNIST dataset a famous multi label dataset\n",
    "\n",
    "First let's load the MNIST dataset from [Tensorflow Datasets](https://www.tensorflow.org/datasets)"
   ]
  },
  {
   "cell_type": "code",
   "execution_count": null,
   "metadata": {
    "colab": {
     "base_uri": "https://localhost:8080/",
     "height": 225,
     "referenced_widgets": [
      "3168cf6f391f4a409faa92bc912ba79a",
      "d6c2e0d34fcb4c45975ab76146015255",
      "888347ffa6a1411c8c4d81fe20ede83b",
      "3c9f0cb65e2e4201803c76dc2586be69",
      "0919222666db4937884c1e371fb0c011",
      "ac91588b1aab4c5abcb903862d2e44cb",
      "0642d40954714791be42069ab2f4af0e",
      "10d92c8c07814803aa9f0f36afdf86c9"
     ]
    },
    "id": "Gnv2OvcUusGH",
    "outputId": "ed58ca77-7ad4-4282-d8d9-cf6aab2b2c88"
   },
   "outputs": [],
   "source": [
    "[ds_raw_train, ds_raw_test], info = tfds.load('mnist', \n",
    "                                              split=['train[:10%]','test[:10%]'], \n",
    "                                              as_supervised=True, \n",
    "                                              with_info=True)"
   ]
  },
  {
   "cell_type": "markdown",
   "metadata": {
    "id": "sSoI05U-r5mS"
   },
   "source": [
    "Check the number of samples in Train and Test datasets"
   ]
  },
  {
   "cell_type": "code",
   "execution_count": null,
   "metadata": {
    "colab": {
     "base_uri": "https://localhost:8080/"
    },
    "id": "p6CfV7sp-D1E",
    "outputId": "1cbfe48e-7fb0-416e-d713-80a143282713"
   },
   "outputs": [],
   "source": [
    "print(\"Number of samples in train : \", ds_raw_train.cardinality().numpy(),\n",
    "      \" in test : \",ds_raw_test.cardinality().numpy())"
   ]
  },
  {
   "cell_type": "markdown",
   "metadata": {
    "id": "OhWCfmsrr_iM"
   },
   "source": [
    "Observe the information about labels"
   ]
  },
  {
   "cell_type": "code",
   "execution_count": null,
   "metadata": {
    "colab": {
     "base_uri": "https://localhost:8080/"
    },
    "id": "81vFPLx-a4ho",
    "outputId": "425e131b-dc27-4ed5-df5c-ccb59e905138"
   },
   "outputs": [],
   "source": [
    "print(\"Number of classes/labels: \",info.features[\"label\"].num_classes)\n",
    "print(\"Names of classes/labels: \",info.features[\"label\"].names)\n",
    "\n",
    "labels= info.features[\"label\"].names"
   ]
  },
  {
   "cell_type": "markdown",
   "metadata": {
    "id": "nVW7Y5rcsFgd"
   },
   "source": [
    "See some sample images (data) with their true labels"
   ]
  },
  {
   "cell_type": "code",
   "execution_count": null,
   "metadata": {
    "colab": {
     "base_uri": "https://localhost:8080/",
     "height": 951
    },
    "id": "HJXTa3V5v0ko",
    "outputId": "51fc94bd-82bf-4fab-ec59-b0460b483b9c"
   },
   "outputs": [],
   "source": [
    "def show_samples(dataset):\n",
    "  fig=plt.figure(figsize=(16, 16))\n",
    "  columns = 3\n",
    "  rows = 3\n",
    "  \n",
    "  print(columns*rows,\"samples from the dataset\")\n",
    "  i=1\n",
    "  for a,b in dataset.take(columns*rows): \n",
    "    fig.add_subplot(rows, columns, i)\n",
    "    plt.imshow(np.squeeze(a))\n",
    "    #plt.imshow(a.numpy())\n",
    "    plt.title(\"image shape:\"+ str(a.shape)+\" (\"+str(b.numpy()) +\")\" )\n",
    "\n",
    "    i=i+1\n",
    "  plt.show()\n",
    "show_samples(ds_raw_test)"
   ]
  },
  {
   "cell_type": "markdown",
   "metadata": {
    "id": "FCVz8nPSfCQ1"
   },
   "source": [
    "Notice that:**\n",
    "* There are **10 classes** \n",
    "* For each sample, there is a **single integer value per class** \n",
    "\n"
   ]
  },
  {
   "cell_type": "markdown",
   "metadata": {
    "id": "jaXEQSmqgFso"
   },
   "source": [
    "### Let's resize and scale the images so that we can save time in training"
   ]
  },
  {
   "cell_type": "code",
   "execution_count": null,
   "metadata": {
    "id": "x-ORZ9XH47A9"
   },
   "outputs": [],
   "source": [
    "#VGG16 expects min 32 x 32 \n",
    "def resize_scale_image(image, label):\n",
    "  image = tf.image.resize(image, [32, 32])\n",
    "  image = image/255.0\n",
    "  image = tf.image.grayscale_to_rgb(image)\n",
    "  return image, label"
   ]
  },
  {
   "cell_type": "code",
   "execution_count": null,
   "metadata": {
    "colab": {
     "base_uri": "https://localhost:8080/",
     "height": 951
    },
    "id": "OEFbBIhc5T3K",
    "outputId": "a474cf41-2344-4191-89a7-d871e09adb0d"
   },
   "outputs": [],
   "source": [
    "ds_train_resize_scale=ds_raw_train.map(resize_scale_image)\n",
    "ds_test_resize_scale=ds_raw_test.map(resize_scale_image)\n",
    "\n",
    "show_samples(ds_test_resize_scale)"
   ]
  },
  {
   "cell_type": "markdown",
   "metadata": {
    "id": "Bro2nsuhgRRb"
   },
   "source": [
    "### Prepare the data pipeline by setting batch size & buffer size using [tf.data](https://www.tensorflow.org/guide/data)"
   ]
  },
  {
   "cell_type": "code",
   "execution_count": null,
   "metadata": {
    "colab": {
     "base_uri": "https://localhost:8080/"
    },
    "id": "NVjYQkmK3tsR",
    "outputId": "c80faf65-de6f-463f-e00f-ccbd8232b2d2"
   },
   "outputs": [],
   "source": [
    "batch_size = 64 \n",
    "\n",
    "ds_train_resize_scale_batched=ds_train_resize_scale.batch(batch_size, drop_remainder=True ).cache().prefetch(tf.data.experimental.AUTOTUNE)\n",
    "ds_test_resize_scale_batched=ds_test_resize_scale.batch(batch_size, drop_remainder=True ).cache().prefetch(tf.data.experimental.AUTOTUNE)\n",
    "\n",
    "print(\"Number of batches in train: \", ds_train_resize_scale_batched.cardinality().numpy())\n",
    "print(\"Number of batches in test: \", ds_test_resize_scale_batched.cardinality().numpy())\n"
   ]
  },
  {
   "cell_type": "markdown",
   "metadata": {
    "id": "MlPhKPOdg06s"
   },
   "source": [
    "### To train fast, let's use Transfer Learning by importing VGG16"
   ]
  },
  {
   "cell_type": "code",
   "execution_count": null,
   "metadata": {
    "colab": {
     "base_uri": "https://localhost:8080/"
    },
    "id": "ZblK_bdScsU_",
    "outputId": "1ad3409a-8c9d-41cc-c7e3-6162fc20932a"
   },
   "outputs": [],
   "source": [
    "base_model = keras.applications.VGG16(\n",
    "    weights='imagenet',  # Load weights pre-trained on ImageNet.\n",
    "    input_shape=(32, 32, 3), # VGG16 expects min 32 x 32\n",
    "    include_top=False)  # Do not include the ImageNet classifier at the top.\n",
    "base_model.trainable = False"
   ]
  },
  {
   "cell_type": "markdown",
   "metadata": {
    "id": "Yieg_K5qsxhq"
   },
   "source": [
    "# 1. True (Actual) Labels are encoded with a **single integer number** "
   ]
  },
  {
   "cell_type": "markdown",
   "metadata": {
    "id": "fSOxs34rg-uc"
   },
   "source": [
    "### Create the classification model\n"
   ]
  },
  {
   "cell_type": "code",
   "execution_count": null,
   "metadata": {
    "id": "sPjUSJ2ePzUV"
   },
   "outputs": [],
   "source": [
    "number_of_classes = 10"
   ]
  },
  {
   "cell_type": "code",
   "execution_count": null,
   "metadata": {
    "id": "ZY8D4mRkw22Z"
   },
   "outputs": [],
   "source": [
    "inputs = keras.Input(shape=(32, 32, 3))\n",
    "x = base_model(inputs, training=False)\n",
    "x = keras.layers.GlobalAveragePooling2D()(x)\n",
    "initializer = tf.keras.initializers.GlorotUniform(seed=42)\n",
    "\n",
    "activation =  None  # tf.keras.activations.sigmoid or softmax\n",
    "\n",
    "outputs = keras.layers.Dense(number_of_classes,\n",
    "                             kernel_initializer=initializer,\n",
    "                             activation=activation)(x) \n",
    "model = keras.Model(inputs, outputs)"
   ]
  },
  {
   "cell_type": "markdown",
   "metadata": {
    "id": "zhH6t7rwbmCd"
   },
   "source": [
    "**Pay attention**:\n",
    "* The last layer has 10 (***number_of_classes***) unit. So the output (***y_pred***)  will be **10 floating points** as the true (actual) label (***y_true***) is **a single integer number**!\n",
    "\n",
    "* For the last layer, the activation function can be:\n",
    "  * None \n",
    "  * sigmoid \n",
    "  * softmax\n",
    "* When there is **no activation** function is used in the model's last layer, we need to set `from_logits=True` **in cross-entropy loss functions** as we discussed above. Thus, **cross-entropy loss functions** will apply a **sigmoid** transformation on **predicted label values**:\n",
    "\n",
    "  `if from_logits: return nn.sigmoid_cross_entropy_with_logits(labels=target, logits=output)`\n"
   ]
  },
  {
   "cell_type": "markdown",
   "metadata": {
    "id": "eDzoAJfqbuvX"
   },
   "source": [
    "### Compile the model"
   ]
  },
  {
   "cell_type": "code",
   "execution_count": null,
   "metadata": {
    "id": "Q3iCuaVXNLhS"
   },
   "outputs": [],
   "source": [
    "model.compile(optimizer=keras.optimizers.Adam(),\n",
    "              loss=keras.losses.SparseCategoricalCrossentropy(from_logits=True), # default from_logits=False\n",
    "              metrics=[keras.metrics.SparseCategoricalAccuracy()])"
   ]
  },
  {
   "cell_type": "markdown",
   "metadata": {
    "id": "NBbFIAOvv7o_"
   },
   "source": [
    "**IMPORTANT:** We need to use **keras.metrics.SparseCategoricalAccuracy()** for **measuring** **the** **accuracy** since it calculates how often predictions match **integer labels**.\n",
    "\n",
    "\n",
    "* As we mentioned above, Keras does ***not*** define a ***single*** accuracy metric, but ***several*** different ones, among them: `accuracy`, `binary_accuracy` and `categorical_accuracy`. \n",
    "* What happens under the hood is that, if you select ***mistakenly*** **categorical cross entropy as your loss function** in a **binary classification** and if you do ***not specify*** a particular accuracy metric by just writing\n",
    " \n",
    " `metrics=\"Accuracy\"`\n",
    "\n",
    "  Keras (***wrongly***...) **infers** that you are interested in the **categorical_accuracy**, and this is what it returns - while in fact you are interested in the **binary_accuracy** since our problem is a binary classification.\n",
    "\n",
    "In summary; \n",
    "* to get `model.fit()` and `model.evaulate()` run correctly (without mixing the loss function and the classification problem at hand) we need to **specify the actual accuracy metric**!\n",
    "* if the true (actual) labels are encoded with integer numbers, you need to use **keras.metrics.SparseCategoricalAccuracy()** for **measuring** **the** **accuracy** since it calculates how often how often predictions match **integer labels**."
   ]
  },
  {
   "cell_type": "markdown",
   "metadata": {
    "id": "TXKR0p8xi8Ky"
   },
   "source": [
    "### Try & See\n",
    "Now, we can try and see the performance of the model by using **combination of activation  and loss functions.**"
   ]
  },
  {
   "cell_type": "code",
   "execution_count": null,
   "metadata": {
    "colab": {
     "base_uri": "https://localhost:8080/"
    },
    "id": "jiRyo4iJ3d3u",
    "outputId": "cabd3eb3-e209-402a-a561-ac7874711123",
    "scrolled": true,
    "tags": []
   },
   "outputs": [],
   "source": [
    "model.fit(ds_train_resize_scale_batched, validation_data=ds_test_resize_scale_batched, epochs=40)"
   ]
  },
  {
   "cell_type": "code",
   "execution_count": null,
   "metadata": {
    "colab": {
     "base_uri": "https://localhost:8080/"
    },
    "id": "ZLFYVBYQUnpk",
    "outputId": "bd0eac6c-7c2d-48b6-91b6-3e9e66c2ead4"
   },
   "outputs": [],
   "source": [
    "ds= ds_test_resize_scale\n",
    "print(\"Test Accuracy: \", model.evaluate(ds.batch(batch_size=10))[1])\n",
    "predictions= model.predict(ds.batch(batch_size=10).take(1))\n",
    "y=[]\n",
    "print(\"10 Sample predictions:\")\n",
    "for (pred,(a,b)) in zip(predictions,ds.take(10)):\n",
    "  print(\"predicted: \" , np.argmax(pred), \"Actual Label: \"+labels[b.numpy()]+\" (\"+str(b.numpy()) +\")\", \" True\" if (np.argmax(pred)==b.numpy()) else \" False\" )\n",
    "  y.append(b.numpy())"
   ]
  },
  {
   "cell_type": "markdown",
   "metadata": {
    "id": "Fs0t4AZ9oFPL"
   },
   "source": [
    "---\n",
    "## Obtained Results*:\n",
    "\n",
    "| Activation | Loss | Accuracy |\n",
    "| :- | -: | :-: |\n",
    "| softmax | BinaryCrossentropy() | **ValueError: logits and labels must have the same shape ((64, 10) vs (64, 1))**\n",
    "| sigmoid | BinaryCrossentropy() | **ValueError: logits and labels must have the same shape ((64, 10) vs (64, 1))**\n",
    "| None | BinaryCrossentropy(from_logits=True) | **ValueError: logits and labels must have the same shape ((64, 10) vs (64, 1))**\n",
    "| None | CategoricalCrossentropy(from_logits=True) |**ValueError: Shapes (64, 1) and (64, 10) are incompatible** \n",
    "| sigmoid | CategoricalCrossentropy() |**ValueError: Shapes (64, 1) and (64, 10) are incompatible**\n",
    "| softmax | CategoricalCrossentropy() |**ValueError: Shapes (64, 1) and (64, 10) are incompatible**\n",
    "| **softmax** | **SparseCategoricalCrossentropy()** | **0.9440**\n",
    "| **sigmoid** | **SparseCategoricalCrossentropy()** | **0.9440**\n",
    "| **None** | **SparseCategoricalCrossentropy(from_logits=True)** |**0.9440** \n",
    "\n",
    "\n",
    "   *When you run this notebook, most probably you would not get the exact numbers rather you would observe very similar values due to the stochastic nature of ANNs.* "
   ]
  },
  {
   "cell_type": "markdown",
   "metadata": {
    "id": "Mk8dQAPpvPwm"
   },
   "source": [
    "---\n",
    "### **Why do BinaryCrossentropy & CategoricalCrossentropy loss functions generate errors?**\n",
    "\n",
    "\n"
   ]
  },
  {
   "cell_type": "markdown",
   "metadata": {
    "id": "2cXQMubb2R7n"
   },
   "source": [
    "Because, for true labels we are using **a single integer** value. \n",
    "\n",
    "However, the last layer outputs **a vector of size 10**(number_of_classes). \n",
    "\n",
    "Therefore, these loss functions can ***NOT compare a single integer with a vector!***"
   ]
  },
  {
   "cell_type": "markdown",
   "metadata": {
    "id": "qrP5zwVb1Saj"
   },
   "source": [
    "---\n",
    "### **Why do softmax & sigmoid activation functions with SparseCategoricalCrossentropy loss lead to the same accuracy?**\n"
   ]
  },
  {
   "cell_type": "markdown",
   "metadata": {
    "id": "IaoCcaJs2dFm"
   },
   "source": [
    "\n",
    "* Generally, we use **softmax activation** instead of **sigmoid** with the **cross-entropy loss** because softmax activation distributes the probability throughout each output node (class).\n",
    "* For **multi-class classification**, **softmax** is more recommended  rather than **sigmoid**. \n",
    "* The practical reason is that \n",
    "  * **softmax** is specially designed for **multi-class** classification tasks.\n",
    "  * **Sigmoid** is equivalent to a 2-element **Softmax**, where the second element is assumed to be zero. Therefore, **sigmoid** is mostly used for **binary classification** and **multi-label classification**.\n",
    "\n",
    "Let's see a simple example:"
   ]
  },
  {
   "cell_type": "code",
   "execution_count": null,
   "metadata": {
    "colab": {
     "base_uri": "https://localhost:8080/"
    },
    "id": "hL0evTKn1T5h",
    "outputId": "8ab742e9-6f3d-41f0-c41b-9a7d6f099c23"
   },
   "outputs": [],
   "source": [
    "# Assume last layer output is as:\n",
    "y_pred_logit = tf.constant([[-20, -1.0, 4.5, 12.5, 74, 43.2, -58.4, 8.2, 99.9, -101]], dtype = tf.float32)\n",
    "print(\"y_pred_logit:\\n\", y_pred_logit.numpy())\n",
    "\n",
    "# and last layer activation function is softmax:\n",
    "y_pred_softmax = tf.keras.activations.softmax(y_pred_logit)\n",
    "print(\"\\nsoftmax(y_pred) :\\n\", y_pred_softmax.numpy())\n",
    "\n",
    "# and last layer activation function is sigmoid:\n",
    "y_pred_sigmoid = tf.keras.activations.sigmoid(y_pred_logit)\n",
    "print(\"\\nsigmoid(y_pred) :\\n\", y_pred_sigmoid.numpy())\n",
    "\n"
   ]
  },
  {
   "cell_type": "markdown",
   "metadata": {
    "id": "CAWBmMI0JESM"
   },
   "source": [
    "As seen above, when the last layer generates some logits, s***igmoid and softmax functions produce different results***.\n",
    "\n",
    "However, when we apply **sparse categorical_crossentropy** loss function on their results, ***the computed loss is exactly the same***:"
   ]
  },
  {
   "cell_type": "code",
   "execution_count": null,
   "metadata": {
    "colab": {
     "base_uri": "https://localhost:8080/"
    },
    "id": "tcGZ9E_o2XPQ",
    "outputId": "ad519a3e-272d-46ef-afdc-66fc5e1d0f22"
   },
   "outputs": [],
   "source": [
    "y_true=[[5]]\n",
    "y_pred = y_pred_sigmoid\n",
    "print(\"\\ny_true {} \\n\\ny_pred by sigmoid {}\\n\".format(y_true, y_pred))\n",
    "print(\"categorical_crossentropy loss: \", tf.keras.losses.sparse_categorical_crossentropy\n",
    "      (y_true, y_pred).numpy())\n",
    "\n",
    "\n",
    "y_pred = y_pred_softmax\n",
    "print(\"\\ny_true {} \\n\\ny_pred by softmax {}\\n\".format(y_true, y_pred))\n",
    "print(\"categorical_crossentropy loss: \", tf.keras.losses.sparse_categorical_crossentropy\n",
    "      (y_true, y_pred).numpy())"
   ]
  },
  {
   "cell_type": "markdown",
   "metadata": {
    "id": "hqryuTO43Kfv"
   },
   "source": [
    "Notice that sigmoid or softmax functions converts logits differently but the **calculated loss is exactly the same!**\n",
    "\n",
    "That is the reason why  softmax & sigmoid activation functions with SparseCategoricalCrossentropy loss lead to the same accuracy."
   ]
  },
  {
   "cell_type": "markdown",
   "metadata": {
    "id": "U-iFq4iHVSnV"
   },
   "source": [
    "---\n",
    "### **Why does SparseCategoricalCrossentropy loss functions with from_logits=True lead to good accuracy without any activation function?**\n",
    "\n",
    "\n",
    "\n",
    "             "
   ]
  },
  {
   "cell_type": "markdown",
   "metadata": {
    "id": "6S7optnC2nhV"
   },
   "source": [
    "Because, using ***from_logits=True*** tells to any Cross Entropy loss functions to apply its own **sigmoid** transformation over the inputs:\n",
    "\n",
    "```Python \n",
    "if from_logits: \n",
    "    return nn.sigmoid_cross_entropy_with_logits(labels=target, logits=output)` \n",
    "```\n",
    "[In Keras documentation](https://www.tensorflow.org/api_docs/python/tf/keras/losses/BinaryCrossentropy): \"***Note - Using ```from_logits=True``` may be more numerically stable.***\"\n",
    "\n"
   ]
  },
  {
   "cell_type": "markdown",
   "metadata": {
    "id": "kCkIJFblKHAG"
   },
   "source": [
    "A simple example:"
   ]
  },
  {
   "cell_type": "code",
   "execution_count": null,
   "metadata": {
    "colab": {
     "base_uri": "https://localhost:8080/"
    },
    "id": "uqExVgAhKJTH",
    "outputId": "bcf602fa-5f66-48e5-f9e6-39824ccb35bd"
   },
   "outputs": [],
   "source": [
    "# Assume last layer output is as:\n",
    "y_pred_logit = tf.constant([[-20, -1.0, 4.5, 12.5, 74, 43.2, -58.4, 8.2, 99.9, -101]], dtype = tf.float32)\n",
    "print(\"y_pred_logit:\\n\", y_pred_logit.numpy())\n",
    "\n",
    "# and last layer activation function is sigmoid:\n",
    "y_pred_sigmoid = tf.keras.activations.sigmoid(y_pred_logit)\n",
    "\n",
    "y_true=[[5]]\n",
    "y_pred = y_pred_sigmoid\n",
    "print(\"\\ny_true {} \\n\\ny_pred by sigmoid {}\\n\".format(y_true, y_pred))\n",
    "print(\"sparse categorical_crossentropy loss: \", tf.keras.losses.sparse_categorical_crossentropy\n",
    "      (y_true, y_pred).numpy())\n",
    "\n",
    "print(\"\\ny_true {} \\n\\ny_pred by None activation {}\\n\".format(y_true, y_pred_logit))\n",
    "print(\"sparse_categorical_crossentropy (from_logits=True)) loss: \", tf.keras.losses.sparse_categorical_crossentropy\n",
    "      (y_true, y_pred_logit,from_logits=True).numpy())"
   ]
  },
  {
   "cell_type": "markdown",
   "metadata": {
    "id": "4aaM_SHpLM09"
   },
   "source": [
    "Notice that if we **do not apply any Activation** function at the last layer, we need to ***inform*** the cross entropy loss functions by setting the parameter ***from_logits=True*** so that the cross entropy loss functions will **apply a sigmoid** transformation onto the given **logits** by themselves!"
   ]
  },
  {
   "cell_type": "markdown",
   "metadata": {
    "id": "3cx4l1p6wW3e"
   },
   "source": [
    "---\n",
    "## **In summary:**\n",
    "\n",
    "We can **conclude** that, if the task is **multi-class classification** and true (actual) labels are encoded as a **single integer number** we have 2 options to go:\n",
    "  * Option 1: \n",
    "```Python \n",
    "  activation = **sigmoid** or **softmax** \n",
    "\n",
    "  loss =SparseCategoricalCrossentropy()\n",
    "  \n",
    "  accuracy metric= SparseCategoricalAccuracy()\n",
    "```\n",
    "  * Option 2: \n",
    "```Python \n",
    "  activation = **None**  \n",
    "  \n",
    "  loss =SparseCategoricalCrossentropy(from_logits=True)\n",
    "  \n",
    "  accuracy metric=SparseCategoricalAccuracy()\n",
    "```"
   ]
  },
  {
   "cell_type": "markdown",
   "metadata": {
    "id": "wsAmkX6PYi8V"
   },
   "source": [
    "# 2. True (Actual) Labels are one-hot encoded "
   ]
  },
  {
   "cell_type": "markdown",
   "metadata": {
    "id": "pVhj-RNCd44J"
   },
   "source": [
    "In multi-class classification problems, we can also use **one-hot encoding** for **target (y_true)** values. \n",
    "Now, let's **which activation, loss, and accuracy** functions we need to select when true classes are encoded one hot."
   ]
  },
  {
   "cell_type": "markdown",
   "metadata": {
    "id": "UXyjPty8l3iE"
   },
   "source": [
    "### First convert the true (actual) label encoding to one-hot"
   ]
  },
  {
   "cell_type": "code",
   "execution_count": null,
   "metadata": {
    "id": "j-rUeSa4bjUP"
   },
   "outputs": [],
   "source": [
    "def one_hot(image, label):\n",
    "  label = tf.one_hot(label, depth=number_of_classes)\n",
    "  return image, label"
   ]
  },
  {
   "cell_type": "code",
   "execution_count": null,
   "metadata": {
    "colab": {
     "base_uri": "https://localhost:8080/",
     "height": 951
    },
    "id": "CVRBfqyrbUGh",
    "outputId": "2bdd6b38-96d4-4375-ecde-fb0a16192e76"
   },
   "outputs": [],
   "source": [
    "ds_train_resize_scale_one_hot= ds_train_resize_scale.map(one_hot)\n",
    "ds_test_resize_scale_one_hot= ds_test_resize_scale.map(one_hot)\n",
    "show_samples(ds_test_resize_scale_one_hot)"
   ]
  },
  {
   "cell_type": "markdown",
   "metadata": {
    "id": "3_ceyHIPnqBt"
   },
   "source": [
    "**Notice that:**\n",
    "* There are **10 labels / classes** \n",
    "* Labels are now **one-hot encoded** \n"
   ]
  },
  {
   "cell_type": "markdown",
   "metadata": {
    "id": "6O2Ax2sWoVZg"
   },
   "source": [
    "### Prepare the data pipeline by setting batch size"
   ]
  },
  {
   "cell_type": "code",
   "execution_count": null,
   "metadata": {
    "id": "qdIHIxXfcYs4"
   },
   "outputs": [],
   "source": [
    "ds_train_resize_scale_one_hot_batched=ds_train_resize_scale_one_hot.batch(64)\n",
    "ds_test_resize_scale_one_hot_batched=ds_test_resize_scale_one_hot.batch(64)"
   ]
  },
  {
   "cell_type": "markdown",
   "metadata": {
    "id": "gwjmjkqnpWxl"
   },
   "source": [
    "### Create the classification model\n"
   ]
  },
  {
   "cell_type": "code",
   "execution_count": null,
   "metadata": {
    "id": "75s0C2WEcfbY"
   },
   "outputs": [],
   "source": [
    "inputs = keras.Input(shape=(32, 32, 3))\n",
    "x = base_model(inputs, training=False)\n",
    "x = keras.layers.GlobalAveragePooling2D()(x)\n",
    "\n",
    "initializer = tf.keras.initializers.GlorotUniform(seed=42)\n",
    "activation = tf.keras.activations.softmax # None  #  tf.keras.activations.sigmoid or softmax\n",
    "\n",
    "outputs = keras.layers.Dense(number_of_classes,\n",
    "                             kernel_initializer=initializer,\n",
    "                             activation=activation)(x) \n",
    " \n",
    "model = keras.Model(inputs, outputs)"
   ]
  },
  {
   "cell_type": "markdown",
   "metadata": {
    "id": "dZpeQpdmf0xx"
   },
   "source": [
    "**Pay attention**:\n",
    "* The last layer has **number_of_classes (10) units**. Thus the output will support  **one-hot** encoding of the true (actual) label. \n",
    "\n",
    "* For the last layer, the activation function can be:\n",
    "  * None \n",
    "  * sigmoid \n",
    "  * softmax\n",
    "* When there is **no activation** function is used, we need to set `from_logits=True` **in cross-entropy functions** as we discussed above"
   ]
  },
  {
   "cell_type": "markdown",
   "metadata": {
    "id": "H6MXv_UdgS9O"
   },
   "source": [
    "### Compile the model"
   ]
  },
  {
   "cell_type": "code",
   "execution_count": null,
   "metadata": {
    "id": "Ta07AROcc2zz"
   },
   "outputs": [],
   "source": [
    "model.compile(optimizer=keras.optimizers.Adam(),\n",
    "              loss=keras.losses.CategoricalCrossentropy(), # default from_logits=False\n",
    "              metrics=[keras.metrics.CategoricalAccuracy()])"
   ]
  },
  {
   "cell_type": "markdown",
   "metadata": {
    "id": "4yXkGhX4uaYd"
   },
   "source": [
    "**IMPORTANT:** We need to use **keras.metrics.CategoricalAccuracy()** for **measuring** **the** **accuracy** since it calculates how often predictions matches **one-hot labels**. **DO NOT USE** just `metrics=['accuracy']` as a performance metric, as explained [in Part A!](https://kmkarakaya.medium.com/how-to-solve-classification-problems-in-deep-learning-with-tensorflow-keras-6e39c5b09501)  \n",
    "\n"
   ]
  },
  {
   "cell_type": "markdown",
   "metadata": {
    "id": "OToMEnymqCne"
   },
   "source": [
    "---\n",
    "### Try & See\n",
    "You can try and see the performance of the model by using **combination of activation  and loss functions.**\n"
   ]
  },
  {
   "cell_type": "markdown",
   "metadata": {
    "id": "hLw9fr88y8XO"
   },
   "source": [
    "Each epoch takes almost 15 seconds on Colab TPU accelerator."
   ]
  },
  {
   "cell_type": "code",
   "execution_count": null,
   "metadata": {
    "colab": {
     "base_uri": "https://localhost:8080/"
    },
    "id": "E9SAleF2c6VR",
    "outputId": "b3b6cd7d-78bf-4b30-b36c-d03deb715e40"
   },
   "outputs": [],
   "source": [
    "model.fit(ds_train_resize_scale_one_hot_batched, validation_data=ds_test_resize_scale_one_hot_batched, epochs=20)"
   ]
  },
  {
   "cell_type": "code",
   "execution_count": null,
   "metadata": {
    "colab": {
     "base_uri": "https://localhost:8080/"
    },
    "id": "PCvMz3sBfUQM",
    "outputId": "901355a2-4ce3-46b5-ed05-16b8722b8dd5"
   },
   "outputs": [],
   "source": [
    "ds= ds_test_resize_scale_one_hot\n",
    "print(\"Test Accuracy: \", model.evaluate(ds.batch(batch_size=10))[1])\n",
    "print(\"10 Sample predictions \")\n",
    "predictions= model.predict(ds.batch(batch_size=10).take(1))\n",
    "y=[]\n",
    "for (pred,(a,b)) in zip(predictions,ds.take(10)):\n",
    "  print(\"predicted: \" , (pred), \"Actual Label: \"+str(b.numpy()) , \" True\" if (np.argmax(pred)==np.argmax(b.numpy())) else \" False\" )\n",
    "  print()\n",
    "  y.append(b.numpy())"
   ]
  },
  {
   "cell_type": "markdown",
   "metadata": {
    "id": "efMP2oRCk9Vi"
   },
   "source": [
    "---\n",
    "## Obtained Results*:\n",
    "\n",
    "\n",
    "| Activation | Loss | Accuracy |\n",
    "| :- | -: | :-: |\n",
    "| softmax | BinaryCrossentropy() |0.9060\n",
    "| sigmoid | BinaryCrossentropy() |0.9060 \n",
    "| None | BinaryCrossentropy(from_logits=True) | 0.9060\n",
    "| **softmax**  | **CategoricalCrossentropy()** |**0.9300**\n",
    "| **sigmoid** | **CategoricalCrossentropy()** | **0.9300**\n",
    "| **None** | **CategoricalCrossentropy(from_logits=True)** | **0.9300**\n",
    "| softmax | SparseCategoricalCrossentropy() | InvalidArgumentError:  logits and labels must have the same first dimension, got logits shape [64,10] and labels shape [640]\n",
    "| sigmoid | SparseCategoricalCrossentropy() | InvalidArgumentError:  logits and labels must have the same first dimension, got logits shape [64,10] and labels shape [640]\n",
    "| None | SparseCategoricalCrossentropy(from_logits=True) | InvalidArgumentError:  logits and labels must have the same first dimension, got logits shape [64,10] and labels shape [640]\n",
    "\n",
    ".\n",
    "* When you run this notebook, most probably you would not get the exact numbers rather you would observe very similar values due to stochastic nature of ANNs.\n"
   ]
  },
  {
   "cell_type": "markdown",
   "metadata": {
    "id": "BRpTGGLeL-SE"
   },
   "source": [
    "---\n",
    "### **Why do SparseCategoricalCrossentropy loss functions generate errors?**\n",
    "\n"
   ]
  },
  {
   "cell_type": "markdown",
   "metadata": {
    "id": "tz8jCYOb3btE"
   },
   "source": [
    "Because, for true labels we are using **one-hot encoding** and the last layer outputs **a vector of size 10** (number_of_classes). \n",
    "\n",
    "However, SparseCategoricalCrossentropy loss function expects integer numbers for true labels. Thus, `SparseCategoricalCrossentropy` loss function can ***NOT compute with one-hot vector!***"
   ]
  },
  {
   "cell_type": "markdown",
   "metadata": {
    "id": "uTro8H-NhRMs"
   },
   "source": [
    "---\n",
    "### **Why do Binary and Categorical cross-entropy loss functions with  lead to similar accuracy?**\n",
    "\n",
    "\n",
    "\n",
    "\n",
    "\n",
    "\n"
   ]
  },
  {
   "cell_type": "markdown",
   "metadata": {
    "id": "_xho0X8k3hZQ"
   },
   "source": [
    "I would like to remind you that when two loss functions are applied to the true labels that are encoded as **one-hot**, the calculated loss values are **very similar**. \n",
    "Thus, the model converges by using the loss function results and since both functions ***might*** generate similar loss values, the resulting trained models would have similar accuracy as seen above.\n",
    "\n",
    "A simple example:\n"
   ]
  },
  {
   "cell_type": "code",
   "execution_count": null,
   "metadata": {
    "colab": {
     "base_uri": "https://localhost:8080/"
    },
    "id": "t-vQvU1EQZZN",
    "outputId": "b7107b68-9856-452e-9ffc-0b45512ea0b2"
   },
   "outputs": [],
   "source": [
    "y_true=[[0, 0, 0, 0, 1, 0, 0, 0, 0, 0]]\n",
    "\n",
    "# Assume last layer output is as:\n",
    "y_pred_logit = tf.constant([[-20, -1.0, 4.5, 12.5, 74, 43.2, -58.4, 8.2, 99.9, -101]], dtype = tf.float32)\n",
    "print(\"y_pred_logit:\\n\", y_pred_logit.numpy())\n",
    "\n",
    "# and last layer activation function is softmax:\n",
    "y_pred_softmax = tf.keras.activations.softmax(y_pred_logit)\n",
    "print(\"\\nsoftmax(y_pred) :\\n\", y_pred_softmax.numpy())\n",
    "\n",
    "print(\"\\ncategorical_crossentropy loss: \", tf.keras.losses.categorical_crossentropy\n",
    "      (y_true, y_pred_softmax).numpy())\n",
    "print(\"\\nbinary_crossentropy loss: \", tf.keras.losses.binary_crossentropy\n",
    "      (y_true, y_pred_softmax).numpy())"
   ]
  },
  {
   "cell_type": "markdown",
   "metadata": {
    "id": "4FzhTh1VM9Xw"
   },
   "source": [
    "---\n",
    "### **Why do Sigmoid and Softmax activation with Categorical cross-entropy loss function lead to the same accuracy?**\n",
    "\n",
    "\n"
   ]
  },
  {
   "cell_type": "markdown",
   "metadata": {
    "id": "lvSiUFVC3mrj"
   },
   "source": [
    "* Since we use **one-hot** encoding in true label encoding, sigmoid transforms all 10 numbers from the last layer to  floating numbers ranging from 0.0 to 1.0 but the sum of these 10 numbers **does not necessarily  equal to 1** (they are not probability distribution). \n",
    "* On the other hand, softmax transforms all 10 numbers from the last layer to  floating numbers ranging from 0.0 to 1.0 **and** the sum of these 10 numbers  **exactly  equals to 1.0**. \n",
    "* Normally, the Categorical cross-entropy loss function expects a probability distribution over the input values (when `from_logit = False` as default). \n",
    "\n",
    "* Even so, the  Categorical cross-entropy loss functions can consume sigmoid outputs and generate similar loss values.\n",
    "\n",
    "A simple example:"
   ]
  },
  {
   "cell_type": "code",
   "execution_count": null,
   "metadata": {
    "colab": {
     "base_uri": "https://localhost:8080/"
    },
    "id": "ke18Vz3xlytT",
    "outputId": "bc771417-15fa-4c0d-f386-daa897aeb016"
   },
   "outputs": [],
   "source": [
    "y_true=[[0, 0, 0, 0, 1, 0, 0, 0, 0, 0]]\n",
    "\n",
    "# Assume last layer output is as:\n",
    "y_pred_logit = tf.constant([[-20, -1.0, 4.5, 12.5, 74, 43.2, -58.4, 8.2, 99.9, -101]], dtype = tf.float32)\n",
    "print(\"y_pred_logit:\\n\", y_pred_logit.numpy())\n",
    "\n",
    "# and last layer activation function is softmax:\n",
    "y_pred_softmax = tf.keras.activations.softmax(y_pred_logit)\n",
    "print(\"\\nsoftmax(y_pred_logit) :\\n\", y_pred_softmax.numpy())\n",
    "print(\"categorical_crossentropy(y_true, y_pred_softmax) loss:\\n\", \n",
    "      tf.keras.losses.categorical_crossentropy\n",
    "      (y_true, y_pred_softmax).numpy())\n",
    "\n",
    "# and last layer activation function is sigmoid:\n",
    "y_pred_sigmoid = tf.keras.activations.sigmoid(y_pred_logit)\n",
    "print(\"\\nsigmoid(y_pred_logit) :\\n\", y_pred_sigmoid.numpy())\n",
    "print(\"categorical_crossentropy(y_true, y_pred_sigmoid) loss:\\n\", \n",
    "      tf.keras.losses.categorical_crossentropy\n",
    "      (y_true, y_pred_sigmoid).numpy())"
   ]
  },
  {
   "cell_type": "markdown",
   "metadata": {
    "id": "cMmqgtHElpAa"
   },
   "source": [
    "As seen above, when the last layer generates some logits, s***igmoid and softmax functions produce different results***.\n",
    "\n",
    "However, when we apply **categorical_crossentropy** loss function on their results, ***the computed loss is exactly the same***."
   ]
  },
  {
   "cell_type": "markdown",
   "metadata": {
    "id": "CVyyLRBK3p8f"
   },
   "source": [
    "---\n",
    "### Summary"
   ]
  },
  {
   "cell_type": "markdown",
   "metadata": {
    "id": "VFx178i8rBg2"
   },
   "source": [
    "According to the above experiment results, if the task is **multi-class classification** and true (actual) labels are encoded as a **one-hot**, we might have 2 options:\n",
    "* Option A\n",
    "```Python \n",
    "  * activation = **None**\n",
    "  * loss = **CategoricalCrossentropy(from_logits=True)**\n",
    "  * accuracy metric= **CategoricalAccuracy()**\n",
    "```\n",
    "* Option B\n",
    "```Python \n",
    "  * activation = **sigmoid or softmax** \n",
    "  * loss =**CategoricalCrossentropy()** \n",
    "  * accuracy metric= **CategoricalAccuracy()**\n",
    "```\n",
    "\n",
    "\n",
    "\n",
    "\n"
   ]
  },
  {
   "cell_type": "markdown",
   "metadata": {
    "id": "HhJK8EhnKUVx"
   },
   "source": [
    "# Multi-Class Classification Summary"
   ]
  },
  {
   "cell_type": "markdown",
   "metadata": {
    "id": "nbSrtgfoelVG"
   },
   "source": [
    "In a nut shel, in a **multi-class** classification \n",
    "* We can use **integer numbers** or **one-hot encoding** to encode the **true** classes / labels \n",
    "*  ***The correct accuracy metric*** depends on **the selected true label encoding**\n",
    "* Last layer activation function could be **Sigmoid, Softmax or None**\n",
    "* ***The correct loss function*** should be decided according to **the selected true label encoding**\n",
    "\n",
    "So the summary of the experiments are below:"
   ]
  },
  {
   "attachments": {
    "57c8d4d0-3cc1-49d1-8c7d-6e8c398e094f.png": {
     "image/png": "[encoded data removed]"
    }
   },
   "cell_type": "markdown",
   "metadata": {
    "id": "CIifGMX3zuNU"
   },
   "source": [
    "![image.png](attachment:57c8d4d0-3cc1-49d1-8c7d-6e8c398e094f.png)"
   ]
  },
  {
   "cell_type": "markdown",
   "metadata": {
    "tags": []
   },
   "source": [
    "**Acknowledgement:** \n",
    "All credits go to [Professor Murat Karakaya](https://www.muratkarakaya.net) and his excellent contributions of this series of deep learning tutorials.\n"
   ]
  },
  {
   "cell_type": "markdown",
   "metadata": {
    "id": "ZqT5te3fGiAQ"
   },
   "source": [
    "---\n",
    "# References\n",
    "\n",
    "- [ Keras API reference / Losses / Probabilistic losses](https://keras.io/api/losses/probabilistic_losses/\n",
    ") \n",
    "\n",
    "- [Keras Activation Functions](https://keras.io/api/layers/activations/)\n",
    "\n",
    "- [Tensorflow Data pipeline (tf.data) guide](https://www.tensorflow.org/guide/data#using_tfdata_with_tfkeras)\n",
    "\n",
    "- [How does tensorflow sparsecategoricalcrossentropy work?](https://stackoverflow.com/questions/59787897/how-does-tensorflow-sparsecategoricalcrossentropy-work)\n",
    "\n",
    "\n",
    "- [Cross-entropy vs sparse-cross-entropy: when to use one over the other](https://stats.stackexchange.com/questions/326065/cross-entropy-vs-sparse-cross-entropy-when-to-use-one-over-the-other)\n",
    "\n",
    "- [Why binary_crossentropy and categorical_crossentropy give different performances for the same problem?](https://stackoverflow.com/questions/42081257/why-binary-crossentropy-and-categorical-crossentropy-give-different-performances)"
   ]
  }
 ],
 "metadata": {
  "accelerator": "GPU",
  "colab": {
   "authorship_tag": "ABX9TyPjx1dqcSm1ZQJUJqDkdJDS",
   "collapsed_sections": [
    "Mk8dQAPpvPwm",
    "qrP5zwVb1Saj"
   ],
   "include_colab_link": true,
   "name": "How to solve Multi-Class Classification Problems in Deep Learning with Tensorflow & Keras.ipynb",
   "provenance": []
  },
  "kernelspec": {
   "display_name": "Python 3 (ipykernel)",
   "language": "python",
   "name": "python3"
  },
  "language_info": {
   "codemirror_mode": {
    "name": "ipython",
    "version": 3
   },
   "file_extension": ".py",
   "mimetype": "text/x-python",
   "name": "python",
   "nbconvert_exporter": "python",
   "pygments_lexer": "ipython3",
   "version": "3.9.15"
  },
  "widgets": {
   "application/vnd.jupyter.widget-state+json": {
    "0642d40954714791be42069ab2f4af0e": {
     "model_module": "@jupyter-widgets/controls",
     "model_name": "DescriptionStyleModel",
     "state": {
      "_model_module": "@jupyter-widgets/controls",
      "_model_module_version": "1.5.0",
      "_model_name": "DescriptionStyleModel",
      "_view_count": null,
      "_view_module": "@jupyter-widgets/base",
      "_view_module_version": "1.2.0",
      "_view_name": "StyleView",
      "description_width": ""
     }
    },
    "0919222666db4937884c1e371fb0c011": {
     "model_module": "@jupyter-widgets/controls",
     "model_name": "ProgressStyleModel",
     "state": {
      "_model_module": "@jupyter-widgets/controls",
      "_model_module_version": "1.5.0",
      "_model_name": "ProgressStyleModel",
      "_view_count": null,
      "_view_module": "@jupyter-widgets/base",
      "_view_module_version": "1.2.0",
      "_view_name": "StyleView",
      "bar_color": null,
      "description_width": "initial"
     }
    },
    "10d92c8c07814803aa9f0f36afdf86c9": {
     "model_module": "@jupyter-widgets/base",
     "model_name": "LayoutModel",
     "state": {
      "_model_module": "@jupyter-widgets/base",
      "_model_module_version": "1.2.0",
      "_model_name": "LayoutModel",
      "_view_count": null,
      "_view_module": "@jupyter-widgets/base",
      "_view_module_version": "1.2.0",
      "_view_name": "LayoutView",
      "align_content": null,
      "align_items": null,
      "align_self": null,
      "border": null,
      "bottom": null,
      "display": null,
      "flex": null,
      "flex_flow": null,
      "grid_area": null,
      "grid_auto_columns": null,
      "grid_auto_flow": null,
      "grid_auto_rows": null,
      "grid_column": null,
      "grid_gap": null,
      "grid_row": null,
      "grid_template_areas": null,
      "grid_template_columns": null,
      "grid_template_rows": null,
      "height": null,
      "justify_content": null,
      "justify_items": null,
      "left": null,
      "margin": null,
      "max_height": null,
      "max_width": null,
      "min_height": null,
      "min_width": null,
      "object_fit": null,
      "object_position": null,
      "order": null,
      "overflow": null,
      "overflow_x": null,
      "overflow_y": null,
      "padding": null,
      "right": null,
      "top": null,
      "visibility": null,
      "width": null
     }
    },
    "3168cf6f391f4a409faa92bc912ba79a": {
     "model_module": "@jupyter-widgets/controls",
     "model_name": "HBoxModel",
     "state": {
      "_dom_classes": [],
      "_model_module": "@jupyter-widgets/controls",
      "_model_module_version": "1.5.0",
      "_model_name": "HBoxModel",
      "_view_count": null,
      "_view_module": "@jupyter-widgets/controls",
      "_view_module_version": "1.5.0",
      "_view_name": "HBoxView",
      "box_style": "",
      "children": [
       "IPY_MODEL_888347ffa6a1411c8c4d81fe20ede83b",
       "IPY_MODEL_3c9f0cb65e2e4201803c76dc2586be69"
      ],
      "layout": "IPY_MODEL_d6c2e0d34fcb4c45975ab76146015255"
     }
    },
    "3c9f0cb65e2e4201803c76dc2586be69": {
     "model_module": "@jupyter-widgets/controls",
     "model_name": "HTMLModel",
     "state": {
      "_dom_classes": [],
      "_model_module": "@jupyter-widgets/controls",
      "_model_module_version": "1.5.0",
      "_model_name": "HTMLModel",
      "_view_count": null,
      "_view_module": "@jupyter-widgets/controls",
      "_view_module_version": "1.5.0",
      "_view_name": "HTMLView",
      "description": "",
      "description_tooltip": null,
      "layout": "IPY_MODEL_10d92c8c07814803aa9f0f36afdf86c9",
      "placeholder": "​",
      "style": "IPY_MODEL_0642d40954714791be42069ab2f4af0e",
      "value": " 4/4 [00:00&lt;00:00,  7.10 file/s]"
     }
    },
    "888347ffa6a1411c8c4d81fe20ede83b": {
     "model_module": "@jupyter-widgets/controls",
     "model_name": "FloatProgressModel",
     "state": {
      "_dom_classes": [],
      "_model_module": "@jupyter-widgets/controls",
      "_model_module_version": "1.5.0",
      "_model_name": "FloatProgressModel",
      "_view_count": null,
      "_view_module": "@jupyter-widgets/controls",
      "_view_module_version": "1.5.0",
      "_view_name": "ProgressView",
      "bar_style": "success",
      "description": "Dl Completed...: 100%",
      "description_tooltip": null,
      "layout": "IPY_MODEL_ac91588b1aab4c5abcb903862d2e44cb",
      "max": 4,
      "min": 0,
      "orientation": "horizontal",
      "style": "IPY_MODEL_0919222666db4937884c1e371fb0c011",
      "value": 4
     }
    },
    "ac91588b1aab4c5abcb903862d2e44cb": {
     "model_module": "@jupyter-widgets/base",
     "model_name": "LayoutModel",
     "state": {
      "_model_module": "@jupyter-widgets/base",
      "_model_module_version": "1.2.0",
      "_model_name": "LayoutModel",
      "_view_count": null,
      "_view_module": "@jupyter-widgets/base",
      "_view_module_version": "1.2.0",
      "_view_name": "LayoutView",
      "align_content": null,
      "align_items": null,
      "align_self": null,
      "border": null,
      "bottom": null,
      "display": null,
      "flex": null,
      "flex_flow": null,
      "grid_area": null,
      "grid_auto_columns": null,
      "grid_auto_flow": null,
      "grid_auto_rows": null,
      "grid_column": null,
      "grid_gap": null,
      "grid_row": null,
      "grid_template_areas": null,
      "grid_template_columns": null,
      "grid_template_rows": null,
      "height": null,
      "justify_content": null,
      "justify_items": null,
      "left": null,
      "margin": null,
      "max_height": null,
      "max_width": null,
      "min_height": null,
      "min_width": null,
      "object_fit": null,
      "object_position": null,
      "order": null,
      "overflow": null,
      "overflow_x": null,
      "overflow_y": null,
      "padding": null,
      "right": null,
      "top": null,
      "visibility": null,
      "width": null
     }
    },
    "d6c2e0d34fcb4c45975ab76146015255": {
     "model_module": "@jupyter-widgets/base",
     "model_name": "LayoutModel",
     "state": {
      "_model_module": "@jupyter-widgets/base",
      "_model_module_version": "1.2.0",
      "_model_name": "LayoutModel",
      "_view_count": null,
      "_view_module": "@jupyter-widgets/base",
      "_view_module_version": "1.2.0",
      "_view_name": "LayoutView",
      "align_content": null,
      "align_items": null,
      "align_self": null,
      "border": null,
      "bottom": null,
      "display": null,
      "flex": null,
      "flex_flow": null,
      "grid_area": null,
      "grid_auto_columns": null,
      "grid_auto_flow": null,
      "grid_auto_rows": null,
      "grid_column": null,
      "grid_gap": null,
      "grid_row": null,
      "grid_template_areas": null,
      "grid_template_columns": null,
      "grid_template_rows": null,
      "height": null,
      "justify_content": null,
      "justify_items": null,
      "left": null,
      "margin": null,
      "max_height": null,
      "max_width": null,
      "min_height": null,
      "min_width": null,
      "object_fit": null,
      "object_position": null,
      "order": null,
      "overflow": null,
      "overflow_x": null,
      "overflow_y": null,
      "padding": null,
      "right": null,
      "top": null,
      "visibility": null,
      "width": null
     }
    }
   }
  }
 },
 "nbformat": 4,
 "nbformat_minor": 4
}
