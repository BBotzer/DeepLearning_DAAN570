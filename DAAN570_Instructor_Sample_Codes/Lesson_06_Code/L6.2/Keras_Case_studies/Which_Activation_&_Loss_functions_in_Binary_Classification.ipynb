{
 "cells": [
  {
   "cell_type": "markdown",
   "metadata": {
    "id": "7CSXR2ST-_9C",
    "tags": []
   },
   "source": [
    "---\n",
    "# Which Activation & Loss functions should be used in Binary Classification Problems?"
   ]
  },
  {
   "cell_type": "markdown",
   "metadata": {
    "id": "xKAcP07G_PAP"
   },
   "source": [
    "**Objective**\n",
    "\n",
    "In this tutorial, we will focus on how to select **Accuracy Metrics, Activation & Loss functions** in Classification Problems.\n",
    "\n",
    "First, we will **review** the **types** of ***Classification Problems***, ***Activation & Loss functions***,  ***label encodings***, and **accuracy metrics**.\n",
    "\n",
    "Furthermore, we will also discuss how the **target encoding** can affect the selection of Activation & Loss functions.\n",
    "\n",
    "Moreover, we will talk about how to select **accuracy metric** correctly.\n",
    "\n",
    "Then, for each type of classification problem, we will apply several Activation & Loss functions and observe their effects on **performance**.\n",
    "\n",
    "We will experiment with all the concepts by designing and evaluating a deep learning model by using **Transfer Learning** on **horses and humans** dataset. \n",
    "\n",
    "\n",
    "\n",
    "In the end, we will summarize the experiment results.\n",
    "\n",
    "The tutorial is devided into **three parts**. In this first part, we will focus on **Binary Classification**. In the upcoming parts, we will focus on multi-class classification and multi-label classification.\n",
    "\n",
    "If you are ready, let's get started!\n"
   ]
  },
  {
   "cell_type": "markdown",
   "metadata": {
    "id": "AJ24LQCeBHS2"
   },
   "source": [
    "---\n",
    "# Types of Classification Tasks"
   ]
  },
  {
   "cell_type": "markdown",
   "metadata": {
    "id": "UP_KxcjemWB4"
   },
   "source": [
    "In general, there are three main types/categories for Classification Tasks in machine learning:\n",
    "\n",
    "**A. binary classification** two target classes\n",
    "\n",
    "**B. multi-class classification** more than two exclusive targets, only one class can be assigned to an input\n",
    "\n",
    "**C. multi-label classification** more than two non exclusive targets,  one input can be labeled with multiple target classes.\n",
    "\n",
    "We will see the details of each classification task along with an example dataset and Keras model below.\n",
    "\n",
    "\n",
    "\n"
   ]
  },
  {
   "cell_type": "markdown",
   "metadata": {
    "id": "UxAl70EDHOn3"
   },
   "source": [
    "---\n",
    "# Types of Label Encoding\n"
   ]
  },
  {
   "cell_type": "markdown",
   "metadata": {
    "id": "qN7WMrCFeNNN"
   },
   "source": [
    "In general, we can use different encodings for **true (actual) labels (y values)** : \n",
    "* **a floating number** (e.g. in binary classification: 1 or 0)\n",
    "* **one-hot encoding** (e.g. in multi-class classification: [0 0 1 0 0])\n",
    "* **a vector (array) of integers** (e.g. in multi-label classification: [14 225 3])\n",
    "\n",
    "We will cover the all possible encodings in the following examples."
   ]
  },
  {
   "cell_type": "markdown",
   "metadata": {
    "id": "Vk73dJ_jCMom"
   },
   "source": [
    "----\n",
    "# Types of Activation Functions for Classification Tasks"
   ]
  },
  {
   "cell_type": "markdown",
   "metadata": {
    "id": "ed2YyqO1CYjt"
   },
   "source": [
    "In Keras, there are several [ Activation Functions](https://keras.io/api/layers/activations/). Below I summarize two of them:\n",
    "\n",
    "* **Sigmoid or Logistic Activation Function:** Sigmoid function maps any input to an output ranging from **0 to 1**. For small values (<-5), sigmoid returns a value close to zero, and for large values (>5) the result of the function gets close to 1. Sigmoid is equivalent to a 2-element Softmax, where **the second element is assumed to be zero**. **Therefore, sigmoid is mostly used for binary classification.**\n",
    "\n",
    "Example: Assume the last layer of the model is as:\n",
    "\n",
    "`outputs = keras.layers.Dense(1, activation=tf.keras.activations.sigmoid)(x) `"
   ]
  },
  {
   "cell_type": "code",
   "execution_count": null,
   "metadata": {},
   "outputs": [],
   "source": [
    "import tensorflow as tf\n",
    "import numpy as np\n",
    "import tensorflow_datasets as tfds\n",
    "from tensorflow import keras\n",
    "import matplotlib.pyplot as plt\n",
    "\n",
    "import warnings\n",
    "warnings.filterwarnings('ignore')"
   ]
  },
  {
   "cell_type": "code",
   "execution_count": null,
   "metadata": {},
   "outputs": [],
   "source": [
    "print(\"Num GPUs Available: \", len(tf.config.experimental.list_physical_devices('GPU')))"
   ]
  },
  {
   "cell_type": "code",
   "execution_count": null,
   "metadata": {
    "colab": {
     "base_uri": "https://localhost:8080/"
    },
    "id": "ygSKE3nKOmT1",
    "outputId": "39b40070-0b92-44dd-91c4-eb0e9280051f"
   },
   "outputs": [],
   "source": [
    "# Let the last layer output vector be:\n",
    "y_pred_logit = tf.constant([-20, -1.0, 0.0, 1.0, 20], dtype = tf.float32)\n",
    "print(\"y_pred_logit:\", y_pred_logit.numpy())\n",
    "# and last layer activation function is sigmoid:\n",
    "y_pred_prob = tf.keras.activations.sigmoid(y_pred_logit)\n",
    "print(\"y_pred:\", y_pred_prob.numpy())\n",
    "print(\"sum of all the elements in y_pred: \",y_pred_prob.numpy().sum())"
   ]
  },
  {
   "cell_type": "markdown",
   "metadata": {
    "id": "1v4nBVoFOklQ"
   },
   "source": [
    "* **Softmax function :** Softmax converts a real vector to **a vector of categorical probabilities**. The elements of the output vector are in range (0, 1) and **sum to 1**. Each vector is handled independently. **Softmax is often used** as the activation for the last layer of a **classification** network because the result could be interpreted as a probability distribution. **Therefore, Softmax is mostly used for multi-class or multi-label classification.**\n",
    "\n",
    "For example: Assume the last layer of the model is as:\n",
    "\n",
    "`outputs = keras.layers.Dense(3, activation=tf.keras.activations.softmax)(x) `"
   ]
  },
  {
   "cell_type": "code",
   "execution_count": null,
   "metadata": {
    "colab": {
     "base_uri": "https://localhost:8080/"
    },
    "id": "EDyp69BtP27M",
    "outputId": "329f7d59-a56d-420f-d2de-98b091f3e7ca"
   },
   "outputs": [],
   "source": [
    "# Assume last layer output is as:\n",
    "y_pred_logit = tf.constant([[-20, -1.0, 4.5], [0.0, 1.0, 20]], dtype = tf.float32)\n",
    "print(\"y_pred_logit:\\n\", y_pred_logit.numpy())\n",
    "\n",
    "# and last layer activation function is softmax:\n",
    "y_pred_prob = tf.keras.activations.softmax(y_pred_logit)\n",
    "\n",
    "print(\"y_pred:\", y_pred_prob.numpy())\n",
    "print(\"sum of all the elements in each vector in y_pred: \",\n",
    "      y_pred_prob.numpy()[0].sum(),\" \", \n",
    "      y_pred_prob.numpy()[1].sum())"
   ]
  },
  {
   "cell_type": "markdown",
   "metadata": {
    "id": "S63Km6UiP7B7"
   },
   "source": [
    "\n",
    "These two activation functions are the most used ones for classification tasks ***at the last layer***.\n",
    "\n",
    "**PLEASE NOTE THAT**  If we **don't specify any activation** function at the last layer, no activation is applied to the outputs of the layer  (ie. **\"linear\" activation: a(x) = x).**"
   ]
  },
  {
   "cell_type": "markdown",
   "metadata": {
    "id": "vHs6V8KyFlB4"
   },
   "source": [
    "---\n",
    "# Types of Loss Functions for Classification Tasks"
   ]
  },
  {
   "cell_type": "markdown",
   "metadata": {
    "id": "29opimD_F-O7"
   },
   "source": [
    "In Keras, there are several [Loss Functions](https://keras.io/api/losses/probabilistic_losses/). Below, I summarized the ones used in **Classification** tasks:\n",
    "\n",
    "* **BinaryCrossentropy:** Computes the cross-entropy loss between true labels and predicted labels. We use this cross-entropy loss **when there are only two label classes (assumed to be 0 and 1)**. For each example, there should be a **single floating-point value per prediction**.\n",
    "\n",
    "* **CategoricalCrossentropy:** Computes the crossentropy loss between the labels and predictions. We use this crossentropy loss function **when there are two or more label classes.** We expect **labels to be provided in a one_hot representation**. If you want to provide labels as integers, please use SparseCategoricalCrossentropy loss. There should be # classes floating point values per feature.\n",
    "\n",
    "* **SparseCategoricalCrossentropy:** Computes the crossentropy loss between the labels and predictions. We use this crossentropy loss function **when there are two or more label classes**. We expect **labels to be provided as integers**. If you want to provide labels using one-hot representation, please use CategoricalCrossentropy loss. There should be # classes floating point values per feature for y_pred and a single floating point value per feature for y_true.\n",
    "\n"
   ]
  },
  {
   "cell_type": "markdown",
   "metadata": {
    "id": "Lvb_A-q9S7RB"
   },
   "source": [
    "**IMPORTANT:** \n",
    "1. In Keras, **these three Cross-Entropy** functions expect two inputs: ***correct / true /actual labels*** (**y**) and ***predicted labels*** (**y_pred**):\n",
    "  * As mentioned above, **correct (actual) labels** can be encoded ***floating numbers***, ***one-hot*** or ***array of integer*** values. \n",
    "  * However, the  **predicted labels** should be presented as a ***probability distribution***. \n",
    "  * If the  predicted labels are **not converted to a probability** distribution ***by the last layer*** of the model (using *sigmoid* or *softmax* activation functions), we **need to inform** these three Cross-Entropy functions by setting their **from_logits = True**. \n",
    "\n",
    "2. If the parameter **from_logits is set True** in any cross entropy function, then function expects ***ordinary*** numbers as **predicted label values** and apply apply **sigmoid transformation** on these predicted label values to convert them into a **probability distribution**. For details you can check the `tf.keras.backend.binary_crossentropy`  source code. Below code is taken from  TF source code:\n",
    "\n",
    "  `if from_logits:\n",
    "    return nn.sigmoid_cross_entropy_with_logits(labels=target, logits=output)`\n",
    "\n",
    "\n",
    "3. Both, **categorical cross entropy** and **sparse categorical cross entropy** have **the same loss function** which we have mentioned above. The **only difference** is the **format of the true labels**:\n",
    "  * If ***correct (actual) labels*** are **one-hot** encoded, use **categorical_crossentropy**. Examples (for a 3-class classification): [1,0,0] , [0,1,0], [0,0,1]\n",
    "\n",
    "  * But if ***correct (actual) labels*** are **integers**, use **sparse_categorical_crossentropy**. Examples for above 3-class classification problem: [1] , [2], [3]\n",
    "\n",
    "  * The usage entirely depends on how **we load our dataset**. \n",
    "  * **One advantage of using sparse categorical cross entropy** is it saves storage in memory as well as time in computation because it simply uses a single integer for a class, rather than **a whole one-hot vector**.\n",
    "\n"
   ]
  },
  {
   "cell_type": "markdown",
   "metadata": {
    "id": "lQA4VQDSmsLz"
   },
   "source": [
    "I will explain the above concepts by designing models in **three** parts"
   ]
  },
  {
   "cell_type": "markdown",
   "metadata": {
    "id": "DRQiTOnyfsu8"
   },
   "source": [
    "---\n",
    "# Types of Accuracy Metrics\n"
   ]
  },
  {
   "cell_type": "markdown",
   "metadata": {
    "id": "THCyn6Xufw8U"
   },
   "source": [
    "Keras has [several accuracy metrics](https://keras.io/api/metrics/accuracy_metrics/). In classification, we can use 2 of them:\n",
    "\n",
    "* **Accuracy**: Calculates how often predictions ***equal*** **labels**."
   ]
  },
  {
   "cell_type": "code",
   "execution_count": null,
   "metadata": {
    "colab": {
     "base_uri": "https://localhost:8080/"
    },
    "id": "nMiMAlRnh1m3",
    "outputId": "268373db-66ac-46fe-a765-db8cd96bc8a7"
   },
   "outputs": [],
   "source": [
    "y_true = [[1],    [1],   [0],    [0]]\n",
    "y_pred = [[0.99], [1.0], [0.01], [0.0]]\n",
    "print(\"Which predictions equal to labels:\", np.equal(y_true, y_pred).reshape(-1,))\n",
    "m = tf.keras.metrics.Accuracy()\n",
    "m.update_state(y_true, y_pred)\n",
    "print(\"Accuracy: \",m.result().numpy())"
   ]
  },
  {
   "cell_type": "markdown",
   "metadata": {
    "id": "8pOSf1p6h_xK"
   },
   "source": [
    "* **Binary Accuracy:** Calculates how often predictions ***match*** **binary labels**."
   ]
  },
  {
   "cell_type": "code",
   "execution_count": null,
   "metadata": {
    "colab": {
     "base_uri": "https://localhost:8080/"
    },
    "id": "FhJEjilIjR-Y",
    "outputId": "a0555bab-8dbe-443a-ecf8-7073dec06c36"
   },
   "outputs": [],
   "source": [
    "y_true = [[1],    [1],    [0], [0]]\n",
    "y_pred = [[0.49], [0.51], [0.5], [0.51]]\n",
    "m = tf.keras.metrics.binary_accuracy(y_true, y_pred, threshold=0.5)\n",
    "print(\"Which predictions match with binary labels:\", m.numpy())\n",
    "\n",
    "m = tf.keras.metrics.BinaryAccuracy()\n",
    "m.update_state(y_true, y_pred)\n",
    "print(\"Binary Accuracy: \", m.result().numpy())"
   ]
  },
  {
   "cell_type": "markdown",
   "metadata": {
    "id": "IL1J_M07if76"
   },
   "source": [
    "* **Categorical Accuracy:** Calculates how often predictions ***match*** **one-hot** labels."
   ]
  },
  {
   "cell_type": "code",
   "execution_count": null,
   "metadata": {
    "colab": {
     "base_uri": "https://localhost:8080/"
    },
    "id": "RmLpLYvbjxZg",
    "outputId": "c38b609d-0c6b-429f-e8e5-de572274b731"
   },
   "outputs": [],
   "source": [
    "# assume 3 classes exist\n",
    "y_true = [[  0,   0, 1],   [  0,     1, 0]]\n",
    "y_pred = [[0.1, 0.9, 0.8], [0.05, 0.95, 0.3]]\n",
    "\n",
    "m = tf.keras.metrics.categorical_accuracy(y_true, y_pred)\n",
    "print(\"Which predictions match with one-hot labels:\", m.numpy())\n",
    "m = tf.keras.metrics.CategoricalAccuracy()\n",
    "m.update_state(y_true, y_pred)\n",
    "print(\"Categorical Accuracy:\", m.result().numpy())"
   ]
  },
  {
   "cell_type": "markdown",
   "metadata": {
    "id": "UOC5LI7IYUpP"
   },
   "source": [
    "---\n",
    "# Part A: Binary Classification (two target classes) "
   ]
  },
  {
   "cell_type": "markdown",
   "metadata": {
    "id": "xAKyNpkseuV4"
   },
   "source": [
    "For a binary classification task, I will use \"**horses_or_humans**\" dataset which is available in **TF Datasets**."
   ]
  },
  {
   "cell_type": "markdown",
   "metadata": {
    "id": "dNMVyqfcYYxP"
   },
   "source": [
    "## A. 1. True (Actual) Labels are encoded with a **single floating number** (1./0.) "
   ]
  },
  {
   "cell_type": "markdown",
   "metadata": {
    "id": "DGaP1tWlaW2E"
   },
   "source": [
    "### First let's load the data from [Tensorflow Datasets](https://www.tensorflow.org/datasets)"
   ]
  },
  {
   "cell_type": "code",
   "execution_count": null,
   "metadata": {
    "id": "Gnv2OvcUusGH"
   },
   "outputs": [],
   "source": [
    "ds_raw_train, ds_raw_test = tfds.load('horses_or_humans', \n",
    "                                      split=['train','test'], as_supervised=True)"
   ]
  },
  {
   "cell_type": "code",
   "execution_count": null,
   "metadata": {
    "colab": {
     "base_uri": "https://localhost:8080/"
    },
    "id": "p6CfV7sp-D1E",
    "outputId": "11987640-1e66-42cc-f01a-186fc29f6349"
   },
   "outputs": [],
   "source": [
    "print(\"Number of samples in train : \", ds_raw_train.cardinality().numpy(),\n",
    "      \" in test : \",ds_raw_test.cardinality().numpy())"
   ]
  },
  {
   "cell_type": "code",
   "execution_count": null,
   "metadata": {
    "colab": {
     "base_uri": "https://localhost:8080/",
     "height": 842
    },
    "id": "HJXTa3V5v0ko",
    "outputId": "039d6f25-c5aa-4fbb-f76f-9d93f613d728"
   },
   "outputs": [],
   "source": [
    "def show_samples(dataset):\n",
    "  fig=plt.figure(figsize=(14, 14))\n",
    "  columns = 3\n",
    "  rows = 3\n",
    "  \n",
    "  print(columns*rows,\"samples from the dataset\")\n",
    "  i=1\n",
    "  for a,b in dataset.take(columns*rows): \n",
    "    fig.add_subplot(rows, columns, i)\n",
    "    plt.imshow(a)\n",
    "    #plt.imshow(a.numpy())\n",
    "    plt.title(\"image shape:\"+ str(a.shape)+\" Label:\"+str(b.numpy()) )\n",
    "\n",
    "    i=i+1\n",
    "  plt.show()\n",
    "show_samples(ds_raw_test)"
   ]
  },
  {
   "cell_type": "markdown",
   "metadata": {
    "id": "FCVz8nPSfCQ1"
   },
   "source": [
    "**Notice that:**\n",
    "* There are **only two label classes**: ***horse and humans***. \n",
    "* For each sample, there is a **single floating-point value per label:** (***0 --> horse, 1--> human***)\n",
    "\n"
   ]
  },
  {
   "cell_type": "markdown",
   "metadata": {
    "id": "jaXEQSmqgFso"
   },
   "source": [
    "### Let's resize and scale the images so that we can save time in training"
   ]
  },
  {
   "cell_type": "code",
   "execution_count": null,
   "metadata": {
    "id": "x-ORZ9XH47A9"
   },
   "outputs": [],
   "source": [
    "#VGG16 expects min 32 x 32 \n",
    "def resize_scale_image(image, label):\n",
    "  image = tf.image.resize(image, [32, 32])\n",
    "  image = image/255.0\n",
    "  return image, label"
   ]
  },
  {
   "cell_type": "code",
   "execution_count": null,
   "metadata": {
    "colab": {
     "base_uri": "https://localhost:8080/",
     "height": 842
    },
    "id": "OEFbBIhc5T3K",
    "outputId": "3c7cdff0-4a29-4ecd-d95f-37cca5627aaa"
   },
   "outputs": [],
   "source": [
    "ds_train_resize_scale=ds_raw_train.map(resize_scale_image)\n",
    "ds_test_resize_scale=ds_raw_test.map(resize_scale_image)\n",
    "show_samples(ds_test_resize_scale)"
   ]
  },
  {
   "cell_type": "markdown",
   "metadata": {
    "id": "Bro2nsuhgRRb"
   },
   "source": [
    "### Prepare the data pipeline by setting batch size & buffer size using [tf.data](https://www.tensorflow.org/guide/data)"
   ]
  },
  {
   "cell_type": "code",
   "execution_count": null,
   "metadata": {
    "colab": {
     "base_uri": "https://localhost:8080/"
    },
    "id": "NVjYQkmK3tsR",
    "outputId": "503327c1-68f6-4ebc-9b1c-c8959a0ff2b1"
   },
   "outputs": [],
   "source": [
    "batch_size = 64 \n",
    "\n",
    "#buffer_size = ds_train_resize_scale.cardinality().numpy()/10\n",
    "#ds_resize_scale_batched=ds_raw.repeat(3).shuffle(buffer_size=buffer_size).batch(64, )\n",
    "\n",
    "ds_train_resize_scale_batched=ds_train_resize_scale.batch(64, drop_remainder=True )\n",
    "ds_test_resize_scale_batched=ds_test_resize_scale.batch(64, drop_remainder=True )\n",
    "\n",
    "print(\"Number of batches in train: \", ds_train_resize_scale_batched.cardinality().numpy())\n",
    "print(\"Number of batches in test: \", ds_test_resize_scale_batched.cardinality().numpy())\n"
   ]
  },
  {
   "cell_type": "markdown",
   "metadata": {
    "id": "MlPhKPOdg06s"
   },
   "source": [
    "### To train fast, let's use Transfer Learning by importing VGG16"
   ]
  },
  {
   "cell_type": "code",
   "execution_count": null,
   "metadata": {
    "id": "ZblK_bdScsU_"
   },
   "outputs": [],
   "source": [
    "base_model = keras.applications.VGG16(\n",
    "    weights='imagenet',  # Load weights pre-trained on ImageNet.\n",
    "    input_shape=(32, 32, 3), # VGG16 expects min 32 x 32\n",
    "    include_top=False)  # Do not include the ImageNet classifier at the top.\n",
    "base_model.trainable = False"
   ]
  },
  {
   "cell_type": "markdown",
   "metadata": {
    "id": "fSOxs34rg-uc"
   },
   "source": [
    "### Create the classification model\n"
   ]
  },
  {
   "cell_type": "code",
   "execution_count": null,
   "metadata": {
    "id": "ZY8D4mRkw22Z"
   },
   "outputs": [],
   "source": [
    "inputs = keras.Input(shape=(32, 32, 3))\n",
    "x = base_model(inputs, training=False)\n",
    "x = keras.layers.GlobalAveragePooling2D()(x)\n",
    "initializer = tf.keras.initializers.GlorotUniform(seed=42)\n",
    "\n",
    "activation =  None  # tf.keras.activations.sigmoid or softmax\n",
    "\n",
    "outputs = keras.layers.Dense(1,\n",
    "                             kernel_initializer=initializer,\n",
    "                             activation=activation)(x) \n",
    "model = keras.Model(inputs, outputs)"
   ]
  },
  {
   "cell_type": "markdown",
   "metadata": {
    "id": "zhH6t7rwbmCd"
   },
   "source": [
    "**Pay attention**:\n",
    "* The last layer has only 1 unit. So the output (***y_pred***)  will be **a single floating point** as the true (actual) label (***y_true***).\n",
    "\n",
    "* For the last layer, the activation function can be:\n",
    "  * None \n",
    "  * sigmoid \n",
    "  * softmax\n",
    "* When there is **no activation** function is used in the model's last layer, we need to set `from_logits=True` **in cross-entropy loss functions** as we discussed above. Thus, **cross-entropy loss functions** will apply a **sigmoid** transformation on **predicted label values**:\n",
    "\n",
    "  `if from_logits: return nn.sigmoid_cross_entropy_with_logits(labels=target, logits=output)`\n"
   ]
  },
  {
   "cell_type": "markdown",
   "metadata": {
    "id": "eDzoAJfqbuvX"
   },
   "source": [
    "### Compile the model"
   ]
  },
  {
   "cell_type": "code",
   "execution_count": null,
   "metadata": {
    "id": "Q3iCuaVXNLhS"
   },
   "outputs": [],
   "source": [
    "model.compile(optimizer=keras.optimizers.Adam(),\n",
    "              loss=keras.losses.BinaryCrossentropy(from_logits=True), # default from_logits=False\n",
    "              metrics=[keras.metrics.BinaryAccuracy()])"
   ]
  },
  {
   "cell_type": "markdown",
   "metadata": {
    "id": "NBbFIAOvv7o_"
   },
   "source": [
    "**IMPORTANT:** We need to use **keras.metrics.BinaryAccuracy()** for **measuring** **the** **accuracy** since it calculates how often predictions matches **binary labels**.\n",
    "\n",
    "\n",
    "* As we mentioned above, Keras does ***not*** define a ***single*** accuracy metric, but ***several*** different ones, among them: `accuracy`, `binary_accuracy` and `categorical_accuracy`. \n",
    "* What happens under the hood is that, if you select ***mistakenly*** **categorical cross entropy as your loss function** in a **binary classification** and if you do ***not specify*** a particular accuracy metric by just writing\n",
    " \n",
    " `metrics=\"Accuracy\"`\n",
    "\n",
    "  Keras (***wrongly***...) **infers** that you are interested in the **categorical_accuracy**, and this is what it returns - while in fact you are interested in the **binary_accuracy** since our problem is a binary classification.\n",
    "\n",
    "In summary; \n",
    "* to get `model.fit()` and `model.evaulate()` run correctly (without mixing the loss function and the classification problem at hand) we need to **specify the actual accuracy metric**!\n",
    "* if the true (actual) labels are encoded binary (0./1.), you need to use **keras.metrics.BinaryAccuracy()** for **measuring** **the** **accuracy** since it calculates how often predictions matches **binary labels**."
   ]
  },
  {
   "cell_type": "markdown",
   "metadata": {
    "id": "TXKR0p8xi8Ky"
   },
   "source": [
    "### Try & See\n",
    "Now, we can try and see the performance of the model by using **combination of activation  and loss functions.**"
   ]
  },
  {
   "cell_type": "markdown",
   "metadata": {
    "id": "EeueJ6G0zQIF"
   },
   "source": [
    "Each epoch takes almost 15 seconds on Colab TPU accelerator."
   ]
  },
  {
   "cell_type": "code",
   "execution_count": null,
   "metadata": {
    "colab": {
     "base_uri": "https://localhost:8080/"
    },
    "id": "jiRyo4iJ3d3u",
    "outputId": "f81356c9-3639-4cbb-cbdf-eea397d56a13"
   },
   "outputs": [],
   "source": [
    "model.fit(ds_train_resize_scale_batched, validation_data=ds_test_resize_scale_batched, epochs=20)"
   ]
  },
  {
   "cell_type": "code",
   "execution_count": null,
   "metadata": {
    "colab": {
     "base_uri": "https://localhost:8080/"
    },
    "id": "JnEfhf73YKlr",
    "outputId": "48a2f454-6706-42be-d097-782af7188194"
   },
   "outputs": [],
   "source": [
    "model.evaluate(ds_test_resize_scale_batched)"
   ]
  },
  {
   "cell_type": "markdown",
   "metadata": {
    "id": "Fs0t4AZ9oFPL"
   },
   "source": [
    "---\n",
    "## Obtained Results*:\n",
    "\n",
    "| Activation | Loss | Accuracy |\n",
    "| :- | -: | :-: |\n",
    "| softmax | BinaryCrossentropy() | 0.5000\n",
    "| **sigmoid** | **BinaryCrossentropy()** | **0.7266**\n",
    "| **None** | **BinaryCrossentropy(from_logits=True)** | **0.8125**\n",
    "| None | CategoricalCrossentropy(from_logits=True) | 0.5000\n",
    "| sigmoid | CategoricalCrossentropy() |0.5000\n",
    "| softmax | CategoricalCrossentropy() |0.5000\n",
    "| any | SparseCategoricalCrossentropy() | InvalidArgumentError\n",
    "\n",
    "\n",
    "   *When you run this notebook, most probably you would not get the exact numbers rather you would observe very similar values due to the stochastic nature of ANNs.* "
   ]
  },
  {
   "cell_type": "markdown",
   "metadata": {
    "id": "U-iFq4iHVSnV"
   },
   "source": [
    "**Note that:**\n",
    "* Generally, we use **softmax activation** instead of **sigmoid** with the **cross-entropy loss** because softmax activation distributes the probability throughout each output node.\n",
    "* But, for **binary classification**, we use **sigmoid** rather than softmax. \n",
    "* The practical reason is that \n",
    "  * **softmax** is specially designed for **multi-class** and **multi-label** classification tasks.\n",
    "  * **Sigmoid** is equivalent to a 2-element **Softmax**, where the second element is assumed to be zero. Therefore, **sigmoid** is mostly used for **binary classification**.\n",
    "* The above results support this recommendation\n",
    "\n",
    "\n",
    "**Why does BinaryCrossentropy loss functions with from_logits=True lead to good accuracy without any activation function?**\n",
    "\n",
    "Because, using from_logits=True tells to the BinaryCrossentropy loss functions to apply its own **sigmoid** transformation over the inputs:\n",
    "\n",
    "`if from_logits: return nn.sigmoid_cross_entropy_with_logits(labels=target, logits=output)` \n",
    "\n",
    "[In Keras documentation](https://www.tensorflow.org/api_docs/python/tf/keras/losses/BinaryCrossentropy): \"***Note - Using from_logits=True may be more numerically stable.***\"\n",
    "\n",
    "\n",
    "**In summary:**\n",
    "\n",
    "We can **conclude** that, if the task is **binary classification** and true (actual) labels are encoded as a **single floating number** (0./1.) we have 2 options to go:\n",
    "  * Option 1: activation = **sigmoid**  loss =**BinaryCrossentropy()** accuracy metric= **BinaryAccuracy()**\n",
    "  * Option 2: activation = **None**  loss =**BinaryCrossentropy(from_logits=True)** accuracy metric= **BinaryAccuracy()**\n",
    "             "
   ]
  },
  {
   "cell_type": "markdown",
   "metadata": {
    "id": "wsAmkX6PYi8V"
   },
   "source": [
    "## A. 2. True (Actual) Labels are one-hot encoded [1 0] or [0 1] "
   ]
  },
  {
   "cell_type": "markdown",
   "metadata": {
    "id": "pVhj-RNCd44J"
   },
   "source": [
    "Normally, in binary classification problems, we ***do not*** use one-hot encoding for **y_true** values. However, I would like to investigate the effects of doing so. In your real life applications, it is up to you how to encode your y_true. You can think of this section **as an experiment**."
   ]
  },
  {
   "cell_type": "markdown",
   "metadata": {
    "id": "UXyjPty8l3iE"
   },
   "source": [
    "### First convert the true (actual) label encoding to one-hot"
   ]
  },
  {
   "cell_type": "code",
   "execution_count": null,
   "metadata": {
    "id": "j-rUeSa4bjUP"
   },
   "outputs": [],
   "source": [
    "def one_hot(image, label):\n",
    "  label = tf.one_hot(label, depth=2)\n",
    "  return image, label"
   ]
  },
  {
   "cell_type": "code",
   "execution_count": null,
   "metadata": {
    "colab": {
     "base_uri": "https://localhost:8080/",
     "height": 842
    },
    "id": "CVRBfqyrbUGh",
    "outputId": "61869782-bec8-460c-c8d4-b8e7c8133594"
   },
   "outputs": [],
   "source": [
    "ds_train_resize_scale_one_hot= ds_train_resize_scale.map(one_hot)\n",
    "ds_test_resize_scale_one_hot= ds_test_resize_scale.map(one_hot)\n",
    "show_samples(ds_test_resize_scale_one_hot)"
   ]
  },
  {
   "cell_type": "markdown",
   "metadata": {
    "id": "3_ceyHIPnqBt"
   },
   "source": [
    "**Notice that:**\n",
    "* There are **only two label classes**: ***horses and humans***. \n",
    "* Labels are now **one-hot encoded** \n",
    "\n",
    " **[1. 0.] --> horse,            \n",
    "   [0. 1.]--> human**"
   ]
  },
  {
   "cell_type": "markdown",
   "metadata": {
    "id": "6O2Ax2sWoVZg"
   },
   "source": [
    "### Prepare the data pipeline by setting batch size"
   ]
  },
  {
   "cell_type": "code",
   "execution_count": null,
   "metadata": {
    "id": "qdIHIxXfcYs4"
   },
   "outputs": [],
   "source": [
    "ds_train_resize_scale_one_hot_batched=ds_train_resize_scale_one_hot.batch(64)\n",
    "ds_test_resize_scale_one_hot_batched=ds_test_resize_scale_one_hot.batch(64)"
   ]
  },
  {
   "cell_type": "markdown",
   "metadata": {
    "id": "gwjmjkqnpWxl"
   },
   "source": [
    "### Create the classification model\n"
   ]
  },
  {
   "cell_type": "code",
   "execution_count": null,
   "metadata": {
    "id": "75s0C2WEcfbY"
   },
   "outputs": [],
   "source": [
    "inputs = keras.Input(shape=(32, 32, 3))\n",
    "x = base_model(inputs, training=False)\n",
    "x = keras.layers.GlobalAveragePooling2D()(x)\n",
    "\n",
    "initializer = tf.keras.initializers.GlorotUniform(seed=42)\n",
    "activation = None  #  tf.keras.activations.sigmoid or softmax\n",
    "\n",
    "outputs = keras.layers.Dense(2,\n",
    "                             kernel_initializer=initializer,\n",
    "                             activation=activation)(x) \n",
    " \n",
    "model = keras.Model(inputs, outputs)"
   ]
  },
  {
   "cell_type": "markdown",
   "metadata": {
    "id": "dZpeQpdmf0xx"
   },
   "source": [
    "**Pay attention**:\n",
    "* The last layer has **now 2 units** instead of 1. Thus the output will support  **one-hot** encoding of the true (actual) label. Remember that one-hot vector has ***two floating point numbers*** in **binary** classification: [1. 0.] or [0. 1.]\n",
    "\n",
    "* For the last layer, the activation function can be:\n",
    "  * None \n",
    "  * sigmoid \n",
    "  * softmax\n",
    "* When there is **no activation** function is used, we need to set `from_logits=True` **in cross-entropy functions** as we discussed above"
   ]
  },
  {
   "cell_type": "markdown",
   "metadata": {
    "id": "H6MXv_UdgS9O"
   },
   "source": [
    "### Compile the model"
   ]
  },
  {
   "cell_type": "code",
   "execution_count": null,
   "metadata": {
    "id": "Ta07AROcc2zz"
   },
   "outputs": [],
   "source": [
    "model.compile(optimizer=keras.optimizers.Adam(),\n",
    "              loss=keras.losses.CategoricalCrossentropy(from_logits=True), # default from_logits=False\n",
    "              metrics=[keras.metrics.CategoricalAccuracy()])"
   ]
  },
  {
   "cell_type": "markdown",
   "metadata": {
    "id": "4yXkGhX4uaYd"
   },
   "source": [
    "**IMPORTANT:** We need to use **keras.metrics.CategoricalAccuracy()** for **measuring** **the** **accuracy** since it calculates how often predictions matches **one-hot labels**. **DO NOT USE** just `metrics=['accuracy']` as a performance metric! Because, as explained above [here in details](https://stackoverflow.com/questions/42081257/why-binary-crossentropy-and-categorical-crossentropy-give-different-performances):  \n",
    "\n",
    "\n",
    "* Keras does not define a single accuracy metric, but several different ones, among them: `accuracy`, `binary_accuracy` and `categorical_accuracy`. \n",
    "* What happens under the hood is that, if you **mistakenly** select **binary cross entropy as your loss function** when **y_true** is encoded ***one-hot*** and do ***not specify*** a particular accuracy metric, instead, if you provide only:\n",
    "\n",
    "  `metrics=\"Accuracy\"`\n",
    "\n",
    "  Keras (***wrongly***...) **infers** that you are interested in the **binary_accuracy**, and this is what it returns - while in fact you are interested in the **categorical_accuracy** (because of one-hot encoding!).\n",
    "\n",
    "In summary, \n",
    "* to get `model.fit()` and  `model.evaulate()` run correctly (without mixing the loss function and the classification problem at hand) we need to **specify the actual accuracy metric**!\n",
    "* if the true (actual) labels are encoded on-hot, you need to use **keras.metrics.CategoricalAccuracy()** for **measuring** **the** **accuracy** since it calculates how often predictions matches **one-hot labels**."
   ]
  },
  {
   "cell_type": "markdown",
   "metadata": {
    "id": "OToMEnymqCne"
   },
   "source": [
    "### Try & See\n",
    "You can try and see the performance of the model by using **combination of activation  and loss functions.**\n"
   ]
  },
  {
   "cell_type": "markdown",
   "metadata": {
    "id": "hLw9fr88y8XO"
   },
   "source": [
    "Each epoch takes almost 15 seconds on Colab TPU accelerator."
   ]
  },
  {
   "cell_type": "code",
   "execution_count": null,
   "metadata": {
    "colab": {
     "base_uri": "https://localhost:8080/"
    },
    "id": "E9SAleF2c6VR",
    "outputId": "79aa98ad-1294-4cc2-b95a-a8949980e6cf"
   },
   "outputs": [],
   "source": [
    "model.fit(ds_train_resize_scale_one_hot_batched, validation_data=ds_test_resize_scale_one_hot_batched, epochs=20)"
   ]
  },
  {
   "cell_type": "code",
   "execution_count": null,
   "metadata": {
    "colab": {
     "base_uri": "https://localhost:8080/"
    },
    "id": "PCvMz3sBfUQM",
    "outputId": "8d98fea0-d14f-4d4e-e130-4bf39ef452a6"
   },
   "outputs": [],
   "source": [
    "model.evaluate(ds_test_resize_scale_one_hot_batched)"
   ]
  },
  {
   "cell_type": "markdown",
   "metadata": {
    "id": "efMP2oRCk9Vi"
   },
   "source": [
    "---\n",
    "## Obtained Results*:\n",
    "\n",
    "\n",
    "| Activation | Loss | Accuracy |\n",
    "| :- | -: | :-: |\n",
    "| softmax | BinaryCrossentropy() |0.6992\n",
    "| **sigmoid** | **BinaryCrossentropy()** | **0.7148**\n",
    "| **None** | **BinaryCrossentropy(from_logits=True)** | **0.7148**\n",
    "| softmax  | CategoricalCrossentropy() | 0.6992\n",
    "| sigmoid | CategoricalCrossentropy() | 0.6992\n",
    "| None | CategoricalCrossentropy(from_logits=True) | 0.6992\n",
    "| any | SparseCategoricalCrossentropy() | InvalidArgumentError\n",
    "\n",
    ".\n",
    "* When you run this notebook, most probably you would not get the exact numbers rather you would observe very similar values due to stochastic nature of ANNs.\n"
   ]
  },
  {
   "cell_type": "markdown",
   "metadata": {
    "id": "uTro8H-NhRMs"
   },
   "source": [
    "**Why do Binary and Categorical cross-entropy loss functions lead to similar accuracy?**\n",
    "\n",
    "I would like to remind you that when two loss functions are applied to the true labels that are encoded as **one-hot**, the calculated loss values are **very similar**. \n",
    "Thus, the model converges by using the loss function results and since both functions generate similar loss functions, the resulting trained models would have similar accuracy as seen above.\n",
    "\n",
    "**Why do Sigmoid and Softmax activation functions lead to similar accuracy?**\n",
    "\n",
    "* Since we use **one-hot** encoding in true label encoding, sigmoid generates two floating numbers changing from 0 to 1 but the sum of these two numbers do not necessarily  equal  1 (they are not probability distribution). \n",
    "* On the other hand, softmax generates two floating numbers changing from 0 to 1 but the sum of these two numbers exactly  equal to 1. \n",
    "* Normally, the  Binary and Categorical cross-entropy loss functions expect a probability distribution over the input values (when from_logit = False as default). \n",
    "* However, sigmoid activation function output is not a probability distribution over these two outputs.  \n",
    "* Even so, the  Binary and Categorical cross-entropy loss functions can consume sigmoid outputs and generate similar loss values.\n",
    "\n",
    "**Why 0.6992?**\n",
    "\n",
    "I have run the models for 20 epochs starting with the same initial weights to isolate the initial weight effects on the performance. Here, 4 models achieve exact accuracy 0.6992 and the rest similarly achieve exact accuracy 0.7148. One reason might be it is only chance. Another reason could be if all the loss calculations end up with the same values so that the gradients are exactly the same. But it is not likely. I checked several times but the process seems to be correct. Please try yourself at home :))\n",
    "\n",
    "\n"
   ]
  },
  {
   "cell_type": "markdown",
   "metadata": {
    "id": "VFx178i8rBg2"
   },
   "source": [
    "According to the above experiment results, if the task is **binary classification** and true (actual) labels are encoded as a **one-hot**, we might have 2 options:\n",
    "* Option A\n",
    "  * activation = **None**\n",
    "  * loss = **BinaryCrossentropy(from_logits=True)**\n",
    "  * accuracy metric= **CategoricalAccuracy()**\n",
    "* Option B\n",
    "  * activation = **sigmoid** \n",
    "  * loss =**BinaryCrossentropy()** \n",
    "  * accuracy metric= **CategoricalAccuracy()**\n",
    "\n",
    "\n",
    "\n",
    "\n"
   ]
  },
  {
   "cell_type": "markdown",
   "metadata": {
    "id": "HhJK8EhnKUVx"
   },
   "source": [
    "# Binary Classification Summary"
   ]
  },
  {
   "cell_type": "markdown",
   "metadata": {
    "id": "nbSrtgfoelVG"
   },
   "source": [
    "In a nut shel, in binary classification \n",
    "* we use floating numbers 0. or 1. to encode the class labels,\n",
    "* BinaryAccuracy is the correct accuracy metric\n",
    "* (Generally recomended) Last layer activation function is Sigmoid and loss function is BinaryCrossentropy.\n",
    "* But we observed that Last layer activation function None and loss function is BinaryCrossentropy(from_logits=True) could also work.\n",
    "\n",
    "So the summary of the experiments are below:"
   ]
  },
  {
   "attachments": {
    "a162736f-3ae5-4adc-be9c-9493ca7a7c19.png": {
     "image/png": "[encoded data removed]"
    }
   },
   "cell_type": "markdown",
   "metadata": {
    "id": "fjG_za-SqYhQ"
   },
   "source": [
    "![image.png](attachment:a162736f-3ae5-4adc-be9c-9493ca7a7c19.png)"
   ]
  },
  {
   "cell_type": "markdown",
   "metadata": {
    "id": "ZqT5te3fGiAQ"
   },
   "source": [
    "---\n",
    "# References\n",
    "\n",
    "[ Keras API reference / Losses / Probabilistic losses](https://keras.io/api/losses/probabilistic_losses/\n",
    ") \n",
    "\n",
    "[Keras Activation Functions](https://keras.io/api/layers/activations/)\n",
    "\n",
    "[Tensorflow Data pipeline (tf.data) guide](https://www.tensorflow.org/guide/data#using_tfdata_with_tfkeras)\n",
    "\n",
    "[How does tensorflow sparsecategoricalcrossentropy work?](https://stackoverflow.com/questions/59787897/how-does-tensorflow-sparsecategoricalcrossentropy-work)\n",
    "\n",
    "\n",
    "[Cross-entropy vs sparse-cross-entropy: when to use one over the other](https://stats.stackexchange.com/questions/326065/cross-entropy-vs-sparse-cross-entropy-when-to-use-one-over-the-other)\n",
    "\n",
    "[Why binary_crossentropy and categorical_crossentropy give different performances for the same problem?](https://stackoverflow.com/questions/42081257/why-binary-crossentropy-and-categorical-crossentropy-give-different-performances)"
   ]
  },
  {
   "cell_type": "markdown",
   "metadata": {
    "tags": []
   },
   "source": [
    "**Acknowledgement:** \n",
    "All credits go to [Professor Murat Karakaya](https://www.muratkarakaya.net) and his excellent contributions of this series of deep learning tutorials.\n"
   ]
  }
 ],
 "metadata": {
  "accelerator": "TPU",
  "colab": {
   "authorship_tag": "ABX9TyMuPAt+5orDHFkFkm1Wk8df",
   "collapsed_sections": [],
   "include_colab_link": true,
   "name": "Which Activation & Loss functions in Binary Classification.ipynb",
   "provenance": []
  },
  "kernelspec": {
   "display_name": "Python 3 (ipykernel)",
   "language": "python",
   "name": "python3"
  },
  "language_info": {
   "codemirror_mode": {
    "name": "ipython",
    "version": 3
   },
   "file_extension": ".py",
   "mimetype": "text/x-python",
   "name": "python",
   "nbconvert_exporter": "python",
   "pygments_lexer": "ipython3",
   "version": "3.9.15"
  }
 },
 "nbformat": 4,
 "nbformat_minor": 4
}
