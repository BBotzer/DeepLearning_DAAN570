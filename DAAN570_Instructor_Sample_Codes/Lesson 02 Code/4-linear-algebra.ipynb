{
 "cells": [
  {
   "cell_type": "markdown",
   "metadata": {
    "origin_pos": 0
   },
   "source": [
    "# Linear Algebra\n",
    "\n",
    "\n",
    "In this notebook, we briefly review the subset of basic linear algebra operations\n",
    "that need to understand and implement most of deep neural networks.\n",
    "\n",
    "We introduce the basic mathematical objects, arithmetic,\n",
    "and operations in linear algebra,\n",
    "expressing each of them through mathematical notation\n",
    "and the corresponding implementation in code.\n",
    "\n",
    "## Scalars\n",
    "\n",
    "In the mathematical notation, scalar variables are denoted\n",
    "by ordinary lower-cased letters (e.g., $x$, $y$, and $z$).\n",
    "We denote the space of all (continuous) *real-valued* scalars by $\\mathbb{R}$.\n",
    "\n",
    "For expedience, we will punt on rigorous definitions\n",
    "of what precisely *space* is,\n",
    "but just remember for now that the expression $x \\in \\mathbb{R}$\n",
    "is a formal way to say that $x$ is a real-valued scalar.\n",
    "\n",
    "The symbol $\\in$ can be pronounced \"in\"\n",
    "and simply denotes membership in a set.\n",
    "Analogously, we could write $x, y \\in \\{0, 1\\}$\n",
    "to state that $x$ and $y$ are numbers\n",
    "whose value can only be $0$ or $1$.\n",
    "\n",
    "> A scalar is represented by a tensor with just one element.\n",
    "\n",
    "In the next snippet, we instantiate two scalars\n",
    "and perform some familiar arithmetic operations with them,\n",
    "namely addition, multiplication, division, and exponentiation.\n"
   ]
  },
  {
   "cell_type": "code",
   "execution_count": null,
   "metadata": {
    "origin_pos": 3,
    "tab": [
     "tensorflow"
    ]
   },
   "outputs": [],
   "source": [
    "import tensorflow as tf\n",
    "\n",
    "x = tf.constant(3.0)\n",
    "y = tf.constant(2.0)\n",
    "\n",
    "x + y, x * y, x / y, x**y"
   ]
  },
  {
   "cell_type": "markdown",
   "metadata": {
    "origin_pos": 4
   },
   "source": [
    "## Vectors\n",
    "\n",
    "You can think of a vector as simply a list of scalar values.\n",
    "\n",
    "We call these values the *elements* (*entries* or *components*) of the vector.\n",
    "When our vectors represent examples from our dataset,\n",
    "their values hold some real-world significance.\n",
    "\n",
    "For examples:\n",
    "- If we were training a model to predict\n",
    "the risk that a loan defaults,\n",
    "we might associate each applicant with a vector\n",
    "whose components correspond to their income,\n",
    "length of employment, number of previous defaults, and other factors.\n",
    "\n",
    "- If we were studying the risk of heart attacks hospital patients potentially face,\n",
    "we might represent each patient by a vector\n",
    "whose components capture their most recent vital signs,\n",
    "cholesterol levels, minutes of exercise per day, etc.\n",
    "\n",
    "In math notation, we will usually denote vectors as bold-faced,\n",
    "lower-cased letters (e.g., $\\mathbf{x}$, $\\mathbf{y}$, and $\\mathbf{z})$.\n",
    "\n",
    "We work with vectors via one-dimensional tensors.\n",
    "In general tensors can have arbitrary lengths,\n",
    "subject to the memory limits of your machine.\n"
   ]
  },
  {
   "cell_type": "code",
   "execution_count": null,
   "metadata": {
    "origin_pos": 7,
    "tab": [
     "tensorflow"
    ]
   },
   "outputs": [],
   "source": [
    "x = tf.range(4)\n",
    "x"
   ]
  },
  {
   "cell_type": "markdown",
   "metadata": {
    "origin_pos": 8
   },
   "source": [
    "We can refer to any element of a vector by using a subscript.\n",
    "For example, we can refer to the $i^\\mathrm{th}$ element of $\\mathbf{x}$ by $x_i$.\n",
    "\n",
    "Note that the element $x_i$ is a scalar,\n",
    "so we do not bold-face the font when referring to it.\n",
    "\n",
    "Extensive literature considers column vectors to be the default\n",
    "orientation of vectors, so does this course.\n",
    "In math, a vector $\\mathbf{x}$ can be written as\n",
    "\n",
    "$$\\mathbf{x} =\\begin{bmatrix}x_{1}  \\\\x_{2}  \\\\ \\vdots  \\\\x_{n}\\end{bmatrix},$$\n",
    "\n",
    "\n",
    "\n",
    "where $x_1, \\ldots, x_n$ are elements of the vector.\n",
    "In code,\n",
    "we access any element by indexing into the tensor.\n"
   ]
  },
  {
   "cell_type": "code",
   "execution_count": null,
   "metadata": {
    "origin_pos": 11,
    "tab": [
     "tensorflow"
    ]
   },
   "outputs": [],
   "source": [
    "x[3]"
   ]
  },
  {
   "cell_type": "markdown",
   "metadata": {
    "origin_pos": 12
   },
   "source": [
    "### Length, Dimensionality, and Shape\n",
    "\n",
    "Let us revisit some concepts from the `ndarray` notenook.\n",
    "A vector is just an array of numbers.\n",
    "And just as every array has a length, so does every vector.\n",
    "\n",
    "- In math notation, if we want to say that a vector $\\mathbf{x}$\n",
    "consists of $n$ real-valued scalars,\n",
    "we can express this as $\\mathbf{x} \\in \\mathbb{R}^n$.\n",
    "\n",
    "- The length of a vector is commonly called the *dimension* of the vector.\n",
    "\n",
    "As with an ordinary Python array,\n",
    "we [**can access the length of a tensor**]\n",
    "by calling Python's built-in `len()` function.\n"
   ]
  },
  {
   "cell_type": "code",
   "execution_count": null,
   "metadata": {
    "origin_pos": 15,
    "tab": [
     "tensorflow"
    ]
   },
   "outputs": [],
   "source": [
    "len(x)"
   ]
  },
  {
   "cell_type": "markdown",
   "metadata": {
    "origin_pos": 16
   },
   "source": [
    "When a tensor represents a vector (with precisely one axis),\n",
    "we can also access its length via the `.shape` attribute.\n",
    "\n",
    "The shape is a tuple that lists the length (dimensionality)\n",
    "along each axis of the tensor.\n",
    "\n",
    "For tensors with just one axis, the shape has just one element.\n"
   ]
  },
  {
   "cell_type": "code",
   "execution_count": null,
   "metadata": {
    "origin_pos": 19,
    "tab": [
     "tensorflow"
    ]
   },
   "outputs": [],
   "source": [
    "x.shape"
   ]
  },
  {
   "cell_type": "markdown",
   "metadata": {
    "origin_pos": 20
   },
   "source": [
    "Note that the word \"dimension\" tends to get overloaded\n",
    "in these contexts and this tends to confuse people.\n",
    "\n",
    "To clarify, we use the dimensionality of a *vector* or an *axis*\n",
    "to refer to its length, i.e., the number of elements of a vector or an axis.\n",
    "\n",
    "However, we use the dimensionality of a tensor\n",
    "to refer to the number of axes that a tensor has.\n",
    "\n",
    "In this sense, the dimensionality of some axis of a tensor\n",
    "will be the length of that axis."
   ]
  },
  {
   "cell_type": "markdown",
   "metadata": {
    "origin_pos": 20
   },
   "source": [
    "## Matrices\n",
    "\n",
    "Just as vectors generalize scalars from order zero to order one,\n",
    "matrices generalize vectors from order one to order two.\n",
    "Matrices, which we will typically denote with bold-faced, capital letters\n",
    "(e.g., $\\mathbf{X}$, $\\mathbf{Y}$, and $\\mathbf{Z}$),\n",
    "are represented in code as tensors with two axes.\n",
    "\n",
    "- In math notation, we use $\\mathbf{A} \\in \\mathbb{R}^{m \\times n}$\n",
    "to express that the matrix $\\mathbf{A}$ consists of $m$ rows and $n$ columns of real-valued scalars.\n",
    "\n",
    "- Visually, we can illustrate any matrix $\\mathbf{A} \\in \\mathbb{R}^{m \\times n}$ as a table,\n",
    "where each element $a_{ij}$ belongs to the $i^{\\mathrm{th}}$ row and $j^{\\mathrm{th}}$ column:\n",
    "\n",
    "$$\\mathbf{A}=\\begin{bmatrix} a_{11} & a_{12} & \\cdots & a_{1n} \\\\ a_{21} & a_{22} & \\cdots & a_{2n} \\\\ \\vdots & \\vdots & \\ddots & \\vdots \\\\ a_{m1} & a_{m2} & \\cdots & a_{mn} \\\\ \\end{bmatrix}.$$\n",
    "\n",
    "\n",
    "\n",
    "For any $\\mathbf{A} \\in \\mathbb{R}^{m \\times n}$, the shape of $\\mathbf{A}$\n",
    "is ($m$, $n$) or $m \\times n$.\n",
    "Specifically, when a matrix has the same number of rows and columns,\n",
    "its shape becomes a square; thus, it is called a *square matrix*.\n",
    "\n",
    "We can [**create an $m \\times n$ matrix**]\n",
    "by specifying a shape with two components $m$ and $n$\n",
    "when calling any of our favorite functions for instantiating a tensor."
   ]
  },
  {
   "cell_type": "code",
   "execution_count": null,
   "metadata": {
    "origin_pos": 23,
    "tab": [
     "tensorflow"
    ]
   },
   "outputs": [],
   "source": [
    "A = tf.reshape(tf.range(20), (5, 4))\n",
    "A"
   ]
  },
  {
   "cell_type": "markdown",
   "metadata": {
    "origin_pos": 24
   },
   "source": [
    "We can access the scalar element $a_{ij}$ of a matrix $\\mathbf{A}$ by specifying the indices for the row ($i$) and column ($j$),\n",
    "such as $[\\mathbf{A}]_{ij}$.\n",
    "When the scalar elements of a matrix $\\mathbf{A}$ are not given,\n",
    "we may simply use the lower-case letter of the matrix $\\mathbf{A}$ with the index subscript, $a_{ij}$,\n",
    "to refer to $[\\mathbf{A}]_{ij}$.\n",
    "To keep notation simple, commas are inserted to separate indices only when necessary,\n",
    "such as $a_{2, 3j}$ and $[\\mathbf{A}]_{2i-1, 3}$.\n",
    "\n",
    "\n",
    "Sometimes, we want to flip the axes.\n",
    "When we exchange a matrix's rows and columns,\n",
    "the result is called the *transpose* of the matrix.\n",
    "Formally, we signify a matrix $\\mathbf{A}$'s transpose by $\\mathbf{A}^\\top$\n",
    "and if $\\mathbf{B} = \\mathbf{A}^\\top$, then $b_{ij} = a_{ji}$ for any $i$ and $j$.\n",
    "Thus, the transpose of $\\mathbf{A}$ is\n",
    "a $n \\times m$ matrix:\n",
    "\n",
    "$$\n",
    "\\mathbf{A}^\\top =\n",
    "\\begin{bmatrix}\n",
    "    a_{11} & a_{21} & \\dots  & a_{m1} \\\\\n",
    "    a_{12} & a_{22} & \\dots  & a_{m2} \\\\\n",
    "    \\vdots & \\vdots & \\ddots  & \\vdots \\\\\n",
    "    a_{1n} & a_{2n} & \\dots  & a_{mn}\n",
    "\\end{bmatrix}.\n",
    "$$\n",
    "\n",
    "Now we access a (**matrix's transpose**) in code.\n"
   ]
  },
  {
   "cell_type": "code",
   "execution_count": null,
   "metadata": {
    "origin_pos": 27,
    "tab": [
     "tensorflow"
    ]
   },
   "outputs": [],
   "source": [
    "tf.transpose(A)"
   ]
  },
  {
   "cell_type": "markdown",
   "metadata": {
    "origin_pos": 28
   },
   "source": [
    "As a special type of the square matrix,\n",
    "[**a *symmetric matrix* $\\mathbf{A}$ is equal to its transpose:\n",
    "$\\mathbf{A} = \\mathbf{A}^\\top$.**]\n",
    "\n",
    "Here we define a symmetric matrix `B`.\n"
   ]
  },
  {
   "cell_type": "code",
   "execution_count": null,
   "metadata": {
    "origin_pos": 31,
    "tab": [
     "tensorflow"
    ]
   },
   "outputs": [],
   "source": [
    "B = tf.constant([[1, 2, 3], [2, 0, 4], [3, 4, 5]])\n",
    "B"
   ]
  },
  {
   "cell_type": "markdown",
   "metadata": {
    "origin_pos": 32
   },
   "source": [
    "Now we compare `B` with its transpose.\n"
   ]
  },
  {
   "cell_type": "code",
   "execution_count": null,
   "metadata": {
    "origin_pos": 35,
    "tab": [
     "tensorflow"
    ]
   },
   "outputs": [],
   "source": [
    "B == tf.transpose(B)"
   ]
  },
  {
   "cell_type": "markdown",
   "metadata": {
    "origin_pos": 36
   },
   "source": [
    "Matrices are useful data structures:\n",
    "- they allow us to organize data that have different modalities of variation.\n",
    "\n",
    "For example, rows in our matrix might correspond to different houses (data examples),\n",
    "while columns might correspond to different attributes.\n",
    "This should sound familiar if you have ever used spreadsheet software or\n",
    "have read `pandas` dataframe.\n",
    "\n",
    "Thus, although the default orientation of a single vector is a column vector,\n",
    "in a matrix that represents a tabular dataset,\n",
    "it is more conventional to treat each data example as a row vector in the matrix.\n",
    "\n",
    "And, as we will see in later chapters,\n",
    "this convention will enable common deep learning practices.\n",
    "\n",
    "\n",
    "For example, along the outermost axis of a tensor,\n",
    "we can access or enumerate minibatches of data examples,\n",
    "or just data examples if no minibatch exists."
   ]
  },
  {
   "cell_type": "markdown",
   "metadata": {
    "origin_pos": 36
   },
   "source": [
    "## Tensors\n",
    "\n",
    "Just as vectors generalize scalars, and matrices generalize vectors, we can build data structures with even more axes.\n",
    "\n",
    "**Tensors** (\"tensors\" in this subsection refer to algebraic objects) give us a generic way of describing $n$-dimensional arrays with an arbitrary number of axes.\n",
    "Vectors, for example, are first-order tensors, and matrices are second-order tensors.\n",
    "\n",
    "- Tensors are denoted with capital letters of a special font face\n",
    "(e.g., $\\mathsf{X}$, $\\mathsf{Y}$, and $\\mathsf{Z}$)\n",
    "and their indexing mechanism (e.g., $x_{ijk}$ and $[\\mathsf{X}]_{1, 2i-1, 3}$) is similar to that of matrices.\n",
    "\n",
    "- Tensors will become more important when we start working with images,\n",
    " which arrive as $n$-dimensional arrays with 3 axes corresponding to the height, width, and a *channel* axis for stacking the color channels (red, green, and blue). \n",
    " \n",
    "\n",
    "For now, we will skip over higher order tensors and focus on the basics."
   ]
  },
  {
   "cell_type": "code",
   "execution_count": null,
   "metadata": {
    "origin_pos": 39,
    "tab": [
     "tensorflow"
    ]
   },
   "outputs": [],
   "source": [
    "X = tf.reshape(tf.range(24), (2, 3, 4))\n",
    "X"
   ]
  },
  {
   "cell_type": "markdown",
   "metadata": {
    "origin_pos": 40
   },
   "source": [
    "## Basic Properties of Tensor Arithmetic\n",
    "\n",
    "Scalars, vectors, matrices, and tensors (\"tensors\" in this subsection refer to algebraic objects)\n",
    "of an arbitrary number of axes\n",
    "have some nice properties that often come in handy.\n",
    "   - For example, you might have noticed from the definition of an elementwise operation that any elementwise unary operation does not change the shape of its operand.\n",
    "\n",
    "Similarly, given any two tensors with the same shape,\n",
    "the result of any binary elementwise operation\n",
    "will be a tensor of that same shape.\n",
    "   - For example, adding two matrices of the same shape performs elementwise addition over these two matrices.\n"
   ]
  },
  {
   "cell_type": "code",
   "execution_count": null,
   "metadata": {
    "origin_pos": 43,
    "tab": [
     "tensorflow"
    ]
   },
   "outputs": [],
   "source": [
    "A = tf.reshape(tf.range(20, dtype=tf.float32), (5, 4))\n",
    "B = A  # No cloning of `A` to `B` by allocating new memory\n",
    "A, A + B"
   ]
  },
  {
   "cell_type": "markdown",
   "metadata": {
    "origin_pos": 44
   },
   "source": [
    "Specifically, elementwise multiplication of two matrices is called their *Hadamard product\n",
    "(math notation $\\odot$).\n",
    "\n",
    "Consider matrix $\\mathbf{B} \\in \\mathbb{R}^{m \\times n}$ whose element of row $i$ and column $j$ is $b_{ij}$. \n",
    "The Hadamard product of matrices $\\mathbf{A}$ and $\\mathbf{B}$\n",
    "\n",
    "$$\n",
    "\\mathbf{A} \\odot \\mathbf{B} =\n",
    "\\begin{bmatrix}\n",
    "    a_{11}  b_{11} & a_{12}  b_{12} & \\dots  & a_{1n}  b_{1n} \\\\\n",
    "    a_{21}  b_{21} & a_{22}  b_{22} & \\dots  & a_{2n}  b_{2n} \\\\\n",
    "    \\vdots & \\vdots & \\ddots & \\vdots \\\\\n",
    "    a_{m1}  b_{m1} & a_{m2}  b_{m2} & \\dots  & a_{mn}  b_{mn}\n",
    "\\end{bmatrix}.\n",
    "$$\n"
   ]
  },
  {
   "cell_type": "code",
   "execution_count": null,
   "metadata": {
    "origin_pos": 47,
    "tab": [
     "tensorflow"
    ]
   },
   "outputs": [],
   "source": [
    "A * B"
   ]
  },
  {
   "cell_type": "markdown",
   "metadata": {
    "origin_pos": 48
   },
   "source": [
    "[**Multiplying or adding a tensor by a scalar**] also does not change the shape of the tensor,\n",
    "where each element of the operand tensor will be added or multiplied by the scalar.\n"
   ]
  },
  {
   "cell_type": "code",
   "execution_count": null,
   "metadata": {
    "origin_pos": 51,
    "tab": [
     "tensorflow"
    ]
   },
   "outputs": [],
   "source": [
    "a = 2\n",
    "X = tf.reshape(tf.range(24), (2, 3, 4))\n",
    "a + X, (a * X).shape"
   ]
  },
  {
   "cell_type": "markdown",
   "metadata": {
    "origin_pos": 52
   },
   "source": [
    "## Reduction\n",
    "\n",
    "One useful operation that we can perform with arbitrary tensors\n",
    "is to\n",
    "calculate [**the sum of their elements.**]\n",
    "\n",
    "In mathematical notation, we express sums using the $\\sum$ symbol.\n",
    "\n",
    "To express the sum of the elements in a vector $\\mathbf{x}$ of length $d$,\n",
    "we write $\\sum_{i=1}^d x_i$.\n",
    "\n",
    "In code, we can just call the function for calculating the sum.\n"
   ]
  },
  {
   "cell_type": "code",
   "execution_count": null,
   "metadata": {
    "origin_pos": 55,
    "tab": [
     "tensorflow"
    ]
   },
   "outputs": [],
   "source": [
    "x = tf.range(4, dtype=tf.float32)\n",
    "x, tf.reduce_sum(x)"
   ]
  },
  {
   "cell_type": "markdown",
   "metadata": {
    "origin_pos": 56
   },
   "source": [
    "We can express [**sums over the elements of tensors of arbitrary shape.**]\n",
    "For example, the sum of the elements of an $m \\times n$ matrix $\\mathbf{A}$ could be written $\\sum_{i=1}^{m} \\sum_{j=1}^{n} a_{ij}$.\n"
   ]
  },
  {
   "cell_type": "code",
   "execution_count": null,
   "metadata": {
    "origin_pos": 59,
    "tab": [
     "tensorflow"
    ]
   },
   "outputs": [],
   "source": [
    "A.shape, tf.reduce_sum(A)"
   ]
  },
  {
   "cell_type": "markdown",
   "metadata": {
    "origin_pos": 60
   },
   "source": [
    "By default, invoking the function for calculating the sum\n",
    "*reduces* a tensor along all its axes to a scalar.\n",
    "We can also [**specify the axes along which the tensor is reduced via summation.**]\n",
    "\n",
    "Take matrices as an example.\n",
    "- To reduce the row dimension (axis 0) by summing up elements of all the rows,\n",
    "- we specify `axis=0` when invoking the function. Since the input matrix reduces along axis 0 to generate the output vector, the dimension of axis 0 of the input is lost in the output shape.\n"
   ]
  },
  {
   "cell_type": "code",
   "execution_count": null,
   "metadata": {
    "origin_pos": 63,
    "tab": [
     "tensorflow"
    ]
   },
   "outputs": [],
   "source": [
    "A_sum_axis0 = tf.reduce_sum(A, axis=0)\n",
    "A_sum_axis0, A_sum_axis0.shape"
   ]
  },
  {
   "cell_type": "markdown",
   "metadata": {
    "origin_pos": 64
   },
   "source": [
    "Specifying\n",
    "`axis=1` will reduce the column dimension (axis 1) by summing up elements of all the columns.\n",
    "\n",
    "Thus, the dimension of axis 1 of the input is lost in the output shape.\n"
   ]
  },
  {
   "cell_type": "code",
   "execution_count": null,
   "metadata": {
    "origin_pos": 67,
    "tab": [
     "tensorflow"
    ]
   },
   "outputs": [],
   "source": [
    "A_sum_axis1 = tf.reduce_sum(A, axis=1)\n",
    "A_sum_axis1, A_sum_axis1.shape"
   ]
  },
  {
   "cell_type": "markdown",
   "metadata": {
    "origin_pos": 68
   },
   "source": [
    "Reducing a matrix along both rows and columns via summation\n",
    "is equivalent to summing up all the elements of the matrix.\n"
   ]
  },
  {
   "cell_type": "code",
   "execution_count": null,
   "metadata": {
    "origin_pos": 71,
    "tab": [
     "tensorflow"
    ]
   },
   "outputs": [],
   "source": [
    "tf.reduce_sum(A, axis=[0, 1])  # Same as `tf.reduce_sum(A)`"
   ]
  },
  {
   "cell_type": "markdown",
   "metadata": {
    "origin_pos": 72
   },
   "source": [
    "[**A related quantity is the *mean*, which is also called the *average*.**]\n",
    "\n",
    "We calculate the mean by dividing the sum by the total number of elements.\n",
    "In code, we could just call the function for calculating the mean\n",
    "on tensors of arbitrary shape.\n"
   ]
  },
  {
   "cell_type": "code",
   "execution_count": null,
   "metadata": {
    "origin_pos": 75,
    "tab": [
     "tensorflow"
    ]
   },
   "outputs": [],
   "source": [
    "tf.reduce_mean(A), tf.reduce_sum(A) / tf.size(A).numpy()"
   ]
  },
  {
   "cell_type": "markdown",
   "metadata": {
    "origin_pos": 76
   },
   "source": [
    "Likewise, the function for calculating the mean can also reduce a tensor along the specified axes.\n"
   ]
  },
  {
   "cell_type": "code",
   "execution_count": null,
   "metadata": {
    "origin_pos": 79,
    "tab": [
     "tensorflow"
    ]
   },
   "outputs": [],
   "source": [
    "tf.reduce_mean(A, axis=0), tf.reduce_sum(A, axis=0) / A.shape[0]"
   ]
  },
  {
   "cell_type": "markdown",
   "metadata": {
    "origin_pos": 80
   },
   "source": [
    "### Non-Reduction Sum\n",
    "\n",
    "However, sometimes it can be useful to [**keep the number of axes unchanged**]\n",
    "when invoking the function for calculating the sum or mean.\n"
   ]
  },
  {
   "cell_type": "code",
   "execution_count": null,
   "metadata": {
    "origin_pos": 83,
    "tab": [
     "tensorflow"
    ]
   },
   "outputs": [],
   "source": [
    "sum_A = tf.reduce_sum(A, axis=1, keepdims=True)\n",
    "sum_A"
   ]
  },
  {
   "cell_type": "markdown",
   "metadata": {
    "origin_pos": 84
   },
   "source": [
    "For instance,\n",
    "since `sum_A` still keeps its two axes after summing each row, we can (**divide `A` by `sum_A` with broadcasting.**)\n"
   ]
  },
  {
   "cell_type": "code",
   "execution_count": null,
   "metadata": {
    "origin_pos": 87,
    "tab": [
     "tensorflow"
    ]
   },
   "outputs": [],
   "source": [
    "A / sum_A"
   ]
  },
  {
   "cell_type": "markdown",
   "metadata": {
    "origin_pos": 88
   },
   "source": [
    "If we want to calculate [**the cumulative sum of elements of `A` along some axis**], say `axis=0` (row by row),\n",
    "we can call the `cumsum` function.\n",
    "This function will not reduce the input tensor along any axis.\n"
   ]
  },
  {
   "cell_type": "code",
   "execution_count": null,
   "metadata": {
    "origin_pos": 91,
    "tab": [
     "tensorflow"
    ]
   },
   "outputs": [],
   "source": [
    "tf.cumsum(A, axis=0)"
   ]
  },
  {
   "cell_type": "markdown",
   "metadata": {
    "origin_pos": 92
   },
   "source": [
    "## Dot Products\n",
    "\n",
    "So far, we have only performed elementwise operations, sums, and averages. However, one of the most fundamental operations is the dot product.\n",
    "\n",
    "Given two vectors $\\mathbf{x}, \\mathbf{y} \\in \\mathbb{R}^d$, their *dot product* $\\mathbf{x}^\\top \\mathbf{y}$ (or $\\langle \\mathbf{x}, \\mathbf{y}  \\rangle$) is a sum over the products of the elements at the same position: $\\mathbf{x}^\\top \\mathbf{y} = \\sum_{i=1}^{d} x_i y_i$.\n",
    "\n"
   ]
  },
  {
   "cell_type": "code",
   "execution_count": null,
   "metadata": {
    "origin_pos": 95,
    "tab": [
     "tensorflow"
    ]
   },
   "outputs": [],
   "source": [
    "y = tf.ones(4, dtype=tf.float32)\n",
    "x, y, tf.tensordot(x, y, axes=1)"
   ]
  },
  {
   "cell_type": "markdown",
   "metadata": {
    "origin_pos": 96
   },
   "source": [
    "Note that\n",
    "(**we can express the dot product of two vectors equivalently by performing an elementwise multiplication and then a sum:**)\n"
   ]
  },
  {
   "cell_type": "code",
   "execution_count": null,
   "metadata": {
    "origin_pos": 99,
    "tab": [
     "tensorflow"
    ]
   },
   "outputs": [],
   "source": [
    "tf.reduce_sum(x * y)"
   ]
  },
  {
   "cell_type": "markdown",
   "metadata": {
    "origin_pos": 100
   },
   "source": [
    "Dot products are useful in a wide range of contexts.\n",
    "\n",
    "- For example, given some set of values,\n",
    "denoted by a vector $\\mathbf{x}  \\in \\mathbb{R}^d$\n",
    "and a set of weights denoted by $\\mathbf{w} \\in \\mathbb{R}^d$,\n",
    "the weighted sum of the values in $\\mathbf{x}$\n",
    "according to the weights $\\mathbf{w}$\n",
    "could be expressed as the dot product $\\mathbf{x}^\\top \\mathbf{w}$.\n",
    "\n",
    "- When the weights are non-negative\n",
    "and sum to one (i.e., $\\left(\\sum_{i=1}^{d} {w_i} = 1\\right)$),\n",
    "the dot product expresses a *weighted average*.\n",
    "\n",
    "After normalizing two vectors to have the unit length,\n",
    "the dot products express the cosine of the angle between them.\n",
    "We will formally introduce this notion of *length* later in this section.\n",
    "\n",
    "\n",
    "## Matrix-Vector Products\n",
    "\n",
    "Now that we know how to calculate dot products,\n",
    "we can begin to understand *matrix-vector products*.\n",
    "Recall the matrix $\\mathbf{A} \\in \\mathbb{R}^{m \\times n}$\n",
    "and the vector $\\mathbf{x} \\in \\mathbb{R}^n$\n",
    "defined and visualized in `matrix` and `vector` section respectively.\n",
    "\n",
    "- Let us start off by visualizing the matrix $\\mathbf{A}$ in terms of its row vectors\n",
    "\n",
    "$$\\mathbf{A}=\n",
    "\\begin{bmatrix}\n",
    "\\mathbf{a}^\\top_{1} \\\\\n",
    "\\mathbf{a}^\\top_{2} \\\\\n",
    "\\vdots \\\\\n",
    "\\mathbf{a}^\\top_m \\\\\n",
    "\\end{bmatrix},$$\n",
    "\n",
    "where each $\\mathbf{a}^\\top_{i} \\in \\mathbb{R}^n$\n",
    "is a row vector representing the $i^\\mathrm{th}$ row of the matrix $\\mathbf{A}$.\n",
    "\n",
    "- The matrix-vector product $\\mathbf{A}\\mathbf{x}$\n",
    "is simply a column vector of length $m$,\n",
    "whose $i^\\mathrm{th}$ element is the dot product $\\mathbf{a}^\\top_i \\mathbf{x}$:\n",
    "\n",
    "$$\n",
    "\\mathbf{A}\\mathbf{x}\n",
    "= \\begin{bmatrix}\n",
    "\\mathbf{a}^\\top_{1} \\\\\n",
    "\\mathbf{a}^\\top_{2} \\\\\n",
    "\\vdots \\\\\n",
    "\\mathbf{a}^\\top_m \\\\\n",
    "\\end{bmatrix}\\mathbf{x}\n",
    "= \\begin{bmatrix}\n",
    " \\mathbf{a}^\\top_{1} \\mathbf{x}  \\\\\n",
    " \\mathbf{a}^\\top_{2} \\mathbf{x} \\\\\n",
    "\\vdots\\\\\n",
    " \\mathbf{a}^\\top_{m} \\mathbf{x}\\\\\n",
    "\\end{bmatrix}.\n",
    "$$\n",
    "\n",
    "We can think of multiplication by a matrix $\\mathbf{A}\\in \\mathbb{R}^{m \\times n}$\n",
    "as a transformation that projects vectors\n",
    "from $\\mathbb{R}^{n}$ to $\\mathbb{R}^{m}$.\n",
    "These transformations turn out to be remarkably useful.\n",
    "- For example, we can represent rotations\n",
    "as multiplications by a square matrix.\n",
    "\n",
    "As we will see in subsequent lessons, we can also use matrix-vector products\n",
    "to describe the most intensive calculations required when computing each layer in a neural network given the values of the previous layer.\n"
   ]
  },
  {
   "cell_type": "markdown",
   "metadata": {
    "origin_pos": 103,
    "tab": [
     "tensorflow"
    ]
   },
   "source": [
    "Expressing matrix-vector products in code with tensors, we use\n",
    "the `matvec` function. When we call `tf.linalg.matvec(A, x)` with a\n",
    "matrix `A` and a vector `x`, the matrix-vector product is\n",
    "performed. Note that the column dimension of `A` (its length along axis 1)\n",
    "must be the same as the dimension of `x` (its length).\n"
   ]
  },
  {
   "cell_type": "code",
   "execution_count": null,
   "metadata": {
    "origin_pos": 106,
    "tab": [
     "tensorflow"
    ]
   },
   "outputs": [],
   "source": [
    "A.shape, x.shape, tf.linalg.matvec(A, x)"
   ]
  },
  {
   "cell_type": "markdown",
   "metadata": {
    "origin_pos": 107
   },
   "source": [
    "## Matrix-Matrix Multiplication\n",
    "\n",
    "If you have gotten the hang of dot products and matrix-vector products,\n",
    "then *matrix-matrix multiplication* should be straightforward.\n",
    "\n",
    "Say that we have two matrices $\\mathbf{A} \\in \\mathbb{R}^{n \\times k}$ and $\\mathbf{B} \\in \\mathbb{R}^{k \\times m}$:\n",
    "\n",
    "$$\\mathbf{A}=\\begin{bmatrix}\n",
    " a_{11} & a_{12} & \\cdots & a_{1k} \\\\\n",
    " a_{21} & a_{22} & \\cdots & a_{2k} \\\\\n",
    "\\vdots & \\vdots & \\ddots & \\vdots \\\\\n",
    " a_{n1} & a_{n2} & \\cdots & a_{nk} \\\\\n",
    "\\end{bmatrix},\\quad\n",
    "\\mathbf{B}=\\begin{bmatrix}\n",
    " b_{11} & b_{12} & \\cdots & b_{1m} \\\\\n",
    " b_{21} & b_{22} & \\cdots & b_{2m} \\\\\n",
    "\\vdots & \\vdots & \\ddots & \\vdots \\\\\n",
    " b_{k1} & b_{k2} & \\cdots & b_{km} \\\\\n",
    "\\end{bmatrix}.$$\n",
    "\n",
    "\n",
    "Denote by $\\mathbf{a}^\\top_{i} \\in \\mathbb{R}^k$\n",
    "the row vector representing the $i^\\mathrm{th}$ row of the matrix $\\mathbf{A}$,\n",
    "and let $\\mathbf{b}_{j} \\in \\mathbb{R}^k$\n",
    "be the column vector from the $j^\\mathrm{th}$ column of the matrix $\\mathbf{B}$.\n",
    "To produce the matrix product $\\mathbf{C} = \\mathbf{A}\\mathbf{B}$, it is easiest to think of $\\mathbf{A}$ in terms of its row vectors and $\\mathbf{B}$ in terms of its column vectors:\n",
    "\n",
    "$$\\mathbf{A}=\n",
    "\\begin{bmatrix}\n",
    "\\mathbf{a}^\\top_{1} \\\\\n",
    "\\mathbf{a}^\\top_{2} \\\\\n",
    "\\vdots \\\\\n",
    "\\mathbf{a}^\\top_n \\\\\n",
    "\\end{bmatrix},\n",
    "\\quad \\mathbf{B}=\\begin{bmatrix}\n",
    " \\mathbf{b}_{1} & \\mathbf{b}_{2} & \\cdots & \\mathbf{b}_{m} \\\\\n",
    "\\end{bmatrix}.\n",
    "$$\n",
    "\n",
    "\n",
    "Then the matrix product $\\mathbf{C} \\in \\mathbb{R}^{n \\times m}$ is produced as we simply compute each element $c_{ij}$ as the dot product $\\mathbf{a}^\\top_i \\mathbf{b}_j$:\n",
    "\n",
    "$$\\mathbf{C} = \\mathbf{AB} = \\begin{bmatrix}\n",
    "\\mathbf{a}^\\top_{1} \\\\\n",
    "\\mathbf{a}^\\top_{2} \\\\\n",
    "\\vdots \\\\\n",
    "\\mathbf{a}^\\top_n \\\\\n",
    "\\end{bmatrix}\n",
    "\\begin{bmatrix}\n",
    " \\mathbf{b}_{1} & \\mathbf{b}_{2} & \\cdots & \\mathbf{b}_{m} \\\\\n",
    "\\end{bmatrix}\n",
    "= \\begin{bmatrix}\n",
    "\\mathbf{a}^\\top_{1} \\mathbf{b}_1 & \\mathbf{a}^\\top_{1}\\mathbf{b}_2& \\cdots & \\mathbf{a}^\\top_{1} \\mathbf{b}_m \\\\\n",
    " \\mathbf{a}^\\top_{2}\\mathbf{b}_1 & \\mathbf{a}^\\top_{2} \\mathbf{b}_2 & \\cdots & \\mathbf{a}^\\top_{2} \\mathbf{b}_m \\\\\n",
    " \\vdots & \\vdots & \\ddots &\\vdots\\\\\n",
    "\\mathbf{a}^\\top_{n} \\mathbf{b}_1 & \\mathbf{a}^\\top_{n}\\mathbf{b}_2& \\cdots& \\mathbf{a}^\\top_{n} \\mathbf{b}_m\n",
    "\\end{bmatrix}.\n",
    "$$\n",
    "\n",
    "[**We can think of the matrix-matrix multiplication $\\mathbf{AB}$ as simply performing $m$ matrix-vector products and stitching the results together to form an $n \\times m$ matrix.**]\n",
    "\n",
    "In the following snippet, we perform matrix multiplication on `A` and `B`.\n",
    "\n",
    "- Here, `A` is a matrix with 5 rows and 4 columns, and `B` is a matrix with 4 rows and 3 columns.\n",
    "- After multiplication, we obtain a matrix with 5 rows and 3 columns.\n"
   ]
  },
  {
   "cell_type": "code",
   "execution_count": null,
   "metadata": {
    "origin_pos": 110,
    "tab": [
     "tensorflow"
    ]
   },
   "outputs": [],
   "source": [
    "B = tf.ones((4, 3), tf.float32)\n",
    "tf.matmul(A, B)"
   ]
  },
  {
   "cell_type": "markdown",
   "metadata": {
    "origin_pos": 111
   },
   "source": [
    "Matrix-matrix multiplication can be simply called *matrix multiplication*, and should not be confused with the Hadamard product.\n",
    "\n",
    "\n",
    "## Norms\n",
    "\n",
    "Some of the most useful operators in linear algebra are *norms*.\n",
    "Informally, the norm of a vector tells us how *big* a vector is.\n",
    "\n",
    "The notion of *size* under consideration here concerns not dimensionality but rather the magnitude of the components.\n",
    "\n",
    "In linear algebra, a vector norm is a function $f$ that maps a vector\n",
    "to a scalar, satisfying a handful of properties.\n",
    "\n",
    "Given any vector $\\mathbf{x}$,\n",
    "the first property says\n",
    "that if we scale all the elements of a vector\n",
    "by a constant factor $\\alpha$,\n",
    "its norm also scales by the *absolute value*\n",
    "of the same constant factor:\n",
    "\n",
    "$$f(\\alpha \\mathbf{x}) = |\\alpha| f(\\mathbf{x}).$$\n",
    "\n",
    "\n",
    "The second property is the familiar triangle inequality:\n",
    "\n",
    "$$f(\\mathbf{x} + \\mathbf{y}) \\leq f(\\mathbf{x}) + f(\\mathbf{y}).$$\n",
    "\n",
    "\n",
    "The third property simply says that the norm must be non-negative:\n",
    "\n",
    "$$f(\\mathbf{x}) \\geq 0.$$\n",
    "\n",
    "That makes sense, as in most contexts the smallest *size* for anything is 0.\n",
    "The final property requires that the smallest norm is achieved and only achieved\n",
    "by a vector consisting of all zeros.\n",
    "\n",
    "$$\\forall i, [\\mathbf{x}]_i = 0 \\Leftrightarrow f(\\mathbf{x})=0.$$\n",
    "\n",
    "You might notice that norms sound a lot like measures of distance.\n",
    "And if you remember Euclidean distances\n",
    "(think Pythagoras' theorem) from grade school,\n",
    "then the concepts of non-negativity and the triangle inequality might ring a bell.\n",
    "\n",
    "In fact, the Euclidean distance is a norm:\n",
    "specifically it is the $L_2$ norm.\n",
    "Suppose that the elements in the $n$-dimensional vector\n",
    "$\\mathbf{x}$ are $x_1, \\ldots, x_n$.\n",
    "\n",
    "The $L_2$ *norm* of $\\mathbf{x}$ is the square root of the sum of the squares of the vector elements:\n",
    "\n",
    "$$\\|\\mathbf{x}\\|_2 = \\sqrt{\\sum_{i=1}^n x_i^2},$$\n",
    "\n",
    "\n",
    "where the subscript $2$ is often omitted in $L_2$ norms, i.e., $\\|\\mathbf{x}\\|$ is equivalent to $\\|\\mathbf{x}\\|_2$. In code,\n",
    "\n",
    "we can calculate the $L_2$ norm of a vector as follows.\n"
   ]
  },
  {
   "cell_type": "code",
   "execution_count": null,
   "metadata": {
    "origin_pos": 114,
    "tab": [
     "tensorflow"
    ]
   },
   "outputs": [],
   "source": [
    "u = tf.constant([3.0, -4.0])\n",
    "tf.norm(u)"
   ]
  },
  {
   "cell_type": "markdown",
   "metadata": {
    "origin_pos": 115
   },
   "source": [
    "In deep learning, we work more often\n",
    "with the squared $L_2$ norm.\n",
    "\n",
    "You will also frequently encounter [**the $L_1$ *norm***],\n",
    "which is expressed as the sum of the absolute values of the vector elements:\n",
    "\n",
    "$$\\|\\mathbf{x}\\|_1 = \\sum_{i=1}^n \\left|x_i \\right|.$$\n",
    "\n",
    "\n",
    "As compared with the $L_2$ norm,\n",
    "it is less influenced by outliers.\n",
    "To calculate the $L_1$ norm, we compose\n",
    "the absolute value function with a sum over the elements.\n"
   ]
  },
  {
   "cell_type": "code",
   "execution_count": null,
   "metadata": {
    "origin_pos": 118,
    "tab": [
     "tensorflow"
    ]
   },
   "outputs": [],
   "source": [
    "tf.reduce_sum(tf.abs(u))"
   ]
  },
  {
   "cell_type": "markdown",
   "metadata": {
    "origin_pos": 119
   },
   "source": [
    "Both the $L_2$ norm and the $L_1$ norm\n",
    "are special cases of the more general $L_p$ *norm*:\n",
    "\n",
    "$$\\|\\mathbf{x}\\|_p = \\left(\\sum_{i=1}^n \\left|x_i \\right|^p \\right)^{1/p}.$$\n",
    "\n",
    "Analogous to $L_2$ norms of vectors,\n",
    "[**the *Frobenius norm* of a matrix $\\mathbf{X} \\in \\mathbb{R}^{m \\times n}$**]\n",
    "is the square root of the sum of the squares of the matrix elements:\n",
    "\n",
    "$$\\|\\mathbf{X}\\|_F = \\sqrt{\\sum_{i=1}^m \\sum_{j=1}^n x_{ij}^2}.$$\n",
    "\n",
    "The Frobenius norm satisfies all the properties of vector norms.\n",
    "\n",
    "It behaves as if it were an $L_2$ norm of a matrix-shaped vector.\n",
    "Invoking the following function will calculate the Frobenius norm of a matrix.\n"
   ]
  },
  {
   "cell_type": "code",
   "execution_count": null,
   "metadata": {
    "origin_pos": 122,
    "tab": [
     "tensorflow"
    ]
   },
   "outputs": [],
   "source": [
    "tf.norm(tf.ones((4, 9)))"
   ]
  },
  {
   "cell_type": "markdown",
   "metadata": {
    "origin_pos": 123
   },
   "source": [
    "### Norms and Objectives\n",
    "\n",
    "\n",
    "While we do not want to get too far ahead of ourselves,\n",
    "we can plant some intuition already about why these concepts are useful.\n",
    "\n",
    "In deep learning, we are often trying to solve optimization problems:\n",
    "- *maximize* the probability assigned to observed data;\n",
    "- *minimize* the distance between predictions and the ground-truth observations.\n",
    "\n",
    "\n",
    "Assign vector representations to items (like words, products, or news articles)\n",
    "such that the distance between similar items is minimized,\n",
    "and the distance between dissimilar items is maximized.\n",
    "\n",
    "Oftentimes, the objectives, perhaps the most important components\n",
    "of deep learning algorithms (besides the data),\n",
    "are expressed as norms.\n",
    "\n",
    "\n",
    "\n",
    "## More on Linear Algebra\n",
    "\n",
    "In just this section,\n",
    "we have taught you all the linear algebra\n",
    "that you will need to understand\n",
    "a remarkable chunk of modern deep learning.\n",
    "There is a lot more to linear algebra\n",
    "and a lot of that mathematics is useful for machine learning.\n",
    "- For example, matrices can be decomposed into factors, and these decompositions can reveal low-dimensional structure in real-world datasets.\n",
    "\n",
    "There are entire subfields of machine learning\n",
    "that focus on using matrix decompositions\n",
    "and their generalizations to high-order tensors\n",
    "to discover structure in datasets and solve prediction problems.\n",
    "\n",
    "But this course focuses on deep learning. And we believe you will be much more inclined to learn more mathematics once you have gotten your hands dirty deploying useful machine learning models on real datasets.\n",
    "\n",
    "So while we reserve the right to introduce more mathematics much later on,\n",
    "we will wrap up this section here.\n",
    "\n",
    "If you are eager to learn more about linear algebra,\n",
    "you may refer to `Strang.1993,Kolter.2008,Petersen.Pedersen.ea.2008`.\n",
    "\n",
    "\n",
    "\n",
    "## Summary\n",
    "\n",
    "* Scalars, vectors, matrices, and tensors are basic mathematical objects in linear algebra.\n",
    "* Vectors generalize scalars, and matrices generalize vectors.\n",
    "* Scalars, vectors, matrices, and tensors have zero, one, two, and an arbitrary number of axes, respectively.\n",
    "* A tensor can be reduced along the specified axes by `sum` and `mean`.\n",
    "* Elementwise multiplication of two matrices is called their Hadamard product. It is different from matrix multiplication.\n",
    "* In deep learning, we often work with norms such as the $L_1$ norm, the $L_2$ norm, and the Frobenius norm.\n",
    "* We can perform a variety of operations over scalars, vectors, matrices, and tensors.\n",
    "\n",
    "## Exercises\n",
    "\n",
    "1. We defined the tensor `X` of shape (2, 3, 4) in this section. What is the output of `len(X)`?\n",
    "1. For a tensor `X` of arbitrary shape, does `len(X)` always correspond to the length of a certain axis of `X`? What is that axis?\n",
    "1. Run `A / A.sum(axis=1)` and see what happens. Can you analyze the reason?\n",
    "1. When traveling between two points in Manhattan, what is the distance that you need to cover in terms of the coordinates, i.e., in terms of avenues and streets? Can you travel diagonally?\n",
    "1. Consider a tensor with shape (2, 3, 4). What are the shapes of the summation outputs along axis 0, 1, and 2?\n",
    "1. Feed a tensor with 3 or more axes to the `linalg.norm` function and observe its output. What does this function compute for tensors of arbitrary shape?\n"
   ]
  },
  {
   "cell_type": "markdown",
   "metadata": {
    "origin_pos": 126,
    "tab": [
     "tensorflow"
    ]
   },
   "source": [
    "\n",
    "**Acknowledgement:** This Jupyter Notebook is adapted from the dive into Deep Learning open-source book.\n"
   ]
  }
 ],
 "metadata": {
  "kernelspec": {
   "display_name": "Python 3 (ipykernel)",
   "language": "python",
   "name": "python3"
  },
  "language_info": {
   "codemirror_mode": {
    "name": "ipython",
    "version": 3
   },
   "file_extension": ".py",
   "mimetype": "text/x-python",
   "name": "python",
   "nbconvert_exporter": "python",
   "pygments_lexer": "ipython3",
   "version": "3.9.15"
  },
  "toc": {
   "base_numbering": 1,
   "nav_menu": {},
   "number_sections": true,
   "sideBar": true,
   "skip_h1_title": false,
   "title_cell": "Table of Contents",
   "title_sidebar": "Contents",
   "toc_cell": false,
   "toc_position": {},
   "toc_section_display": true,
   "toc_window_display": false
  },
  "varInspector": {
   "cols": {
    "lenName": 16,
    "lenType": 16,
    "lenVar": 40
   },
   "kernels_config": {
    "python": {
     "delete_cmd_postfix": "",
     "delete_cmd_prefix": "del ",
     "library": "var_list.py",
     "varRefreshCmd": "print(var_dic_list())"
    },
    "r": {
     "delete_cmd_postfix": ") ",
     "delete_cmd_prefix": "rm(",
     "library": "var_list.r",
     "varRefreshCmd": "cat(var_dic_list()) "
    }
   },
   "types_to_exclude": [
    "module",
    "function",
    "builtin_function_or_method",
    "instance",
    "_Feature"
   ],
   "window_display": true
  }
 },
 "nbformat": 4,
 "nbformat_minor": 4
}
