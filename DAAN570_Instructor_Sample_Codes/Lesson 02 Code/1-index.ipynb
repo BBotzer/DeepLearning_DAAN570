{
 "cells": [
  {
   "cell_type": "markdown",
   "metadata": {
    "origin_pos": 0
   },
   "source": [
    "#  Overview\n",
    "\n",
    "\n",
    "Machine learning and deep learning projects are concerned\n",
    "with learning from data. So we will start by learning the practical skills\n",
    "for storing, manipulating, and preprocessing data in different formats.\n",
    "\n",
    "\n",
    "\n",
    "1. Machine learning typically requires working with large datasets, which we can think of as tables, where rows correspond to examples and columns correspond to attributes. The following Jupyter Notebooks introduce two fundamental data structures: tensors (Tensorflow ndarray) and dataframes (Pandas Library)\n",
    " - [ndarray](ndarray.ipynb)\n",
    " - [pandas](pandas.ipynb)\n",
    "\n",
    "2. Linear algebra provides techniques for working with tabular data. The following upyter Notebook will teach you how to perform matrix operations and their implementation in Python:\n",
    " - [linear-algebra](linear-algebra.ipynb)\n",
    "\n",
    "3. Deep learning is all about optimization to find parameters that *best* fit our model to the training data.\n",
    "Determining which way to move each parameter at each step of an algorithm\n",
    "requires a little bit of calculus, which will be briefly introduced. The `autograd` package in TensorFlow automatically computes differentiation and takes care of calculus operations. The following Jupyter Notebooks will provide you step by step instructions in Pyhton to perform calculus and differentiation:\n",
    "\n",
    " - [calculus](calculus.ipynb)\n",
    " - [autograd](autograd.ipynb)\n",
    "\n",
    "4. Machine learning and deep learning are concerned with making predictions. To reason rigorously under uncertainty you need to reason with probability. The following upyter Notebook will briefly introduce probability content to the minimum necessary to get a proper understanding of deep learning.\n",
    " - [probability](probability.ipynb)\n",
    " - [lookup-api](lookup-api.ipynb)\n",
    "\n"
   ]
  }
 ],
 "metadata": {
  "kernelspec": {
   "display_name": "Python 3 (ipykernel)",
   "language": "python",
   "name": "python3"
  },
  "language_info": {
   "codemirror_mode": {
    "name": "ipython",
    "version": 3
   },
   "file_extension": ".py",
   "mimetype": "text/x-python",
   "name": "python",
   "nbconvert_exporter": "python",
   "pygments_lexer": "ipython3",
   "version": "3.9.15"
  },
  "toc": {
   "base_numbering": 1,
   "nav_menu": {},
   "number_sections": true,
   "sideBar": true,
   "skip_h1_title": false,
   "title_cell": "Table of Contents",
   "title_sidebar": "Contents",
   "toc_cell": false,
   "toc_position": {},
   "toc_section_display": true,
   "toc_window_display": false
  },
  "varInspector": {
   "cols": {
    "lenName": 16,
    "lenType": 16,
    "lenVar": 40
   },
   "kernels_config": {
    "python": {
     "delete_cmd_postfix": "",
     "delete_cmd_prefix": "del ",
     "library": "var_list.py",
     "varRefreshCmd": "print(var_dic_list())"
    },
    "r": {
     "delete_cmd_postfix": ") ",
     "delete_cmd_prefix": "rm(",
     "library": "var_list.r",
     "varRefreshCmd": "cat(var_dic_list()) "
    }
   },
   "types_to_exclude": [
    "module",
    "function",
    "builtin_function_or_method",
    "instance",
    "_Feature"
   ],
   "window_display": true
  }
 },
 "nbformat": 4,
 "nbformat_minor": 4
}
