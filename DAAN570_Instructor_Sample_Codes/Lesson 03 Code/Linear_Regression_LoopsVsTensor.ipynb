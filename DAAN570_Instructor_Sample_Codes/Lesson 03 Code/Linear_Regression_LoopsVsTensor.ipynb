{
 "cells": [
  {
   "cell_type": "markdown",
   "id": "03220560",
   "metadata": {},
   "source": [
    "# Import the required Libraries"
   ]
  },
  {
   "cell_type": "code",
   "execution_count": 1,
   "id": "00ed1d65",
   "metadata": {},
   "outputs": [],
   "source": [
    "\n",
    "%matplotlib inline\n",
    "import math\n",
    "import time\n",
    "import numpy as np\n",
    "import tensorflow as tf\n"
   ]
  },
  {
   "cell_type": "markdown",
   "id": "0a6c2da6",
   "metadata": {},
   "source": [
    "# Instantiate two 10000-dimensional vectors containing all ones "
   ]
  },
  {
   "cell_type": "code",
   "execution_count": 3,
   "id": "dacf68e6",
   "metadata": {},
   "outputs": [],
   "source": [
    "n = 10000\n",
    "a = tf.ones(n)\n",
    "b = tf.ones(n)"
   ]
  },
  {
   "cell_type": "markdown",
   "id": "de5a024b",
   "metadata": {},
   "source": [
    "# Let us define a timer for measure the performance."
   ]
  },
  {
   "cell_type": "code",
   "execution_count": 4,
   "id": "930a69bb",
   "metadata": {},
   "outputs": [],
   "source": [
    "class Timer:  #@save\n",
    "    \"\"\"Record multiple running times.\"\"\"\n",
    "    def __init__(self):\n",
    "        self.times = []\n",
    "        self.start()\n",
    " \n",
    "    def start(self):\n",
    "        \"\"\"Start the timer.\"\"\"\n",
    "        self.tik = time.time()\n",
    " \n",
    "    def stop(self):\n",
    "        \"\"\"Stop the timer and record the time in a list.\"\"\"\n",
    "        self.times.append(time.time() - self.tik)\n",
    "        return self.times[-1]\n",
    " \n",
    "    def avg(self):\n",
    "        \"\"\"Return the average time.\"\"\"\n",
    "        return sum(self.times) / len(self.times)\n",
    " \n",
    "    def sum(self):\n",
    "        \"\"\"Return the sum of time.\"\"\"\n",
    "        return sum(self.times)\n",
    " \n",
    "    def cumsum(self):\n",
    "        \"\"\"Return the accumulated time.\"\"\"\n",
    "        return np.array(self.times).cumsum().tolist() "
   ]
  },
  {
   "cell_type": "markdown",
   "id": "0ee64af1",
   "metadata": {},
   "source": [
    "# In this code, we add them, one coordinate at a time, using a for-loop."
   ]
  },
  {
   "cell_type": "code",
   "execution_count": 5,
   "id": "c1e51ad2",
   "metadata": {},
   "outputs": [
    {
     "data": {
      "text/plain": [
       "'20.03853 sec'"
      ]
     },
     "execution_count": 5,
     "metadata": {},
     "output_type": "execute_result"
    }
   ],
   "source": [
    "c = tf.Variable(tf.zeros(n))\n",
    "timer = Timer()\n",
    "for i in range(n):\n",
    "    c[i].assign(a[i] + b[i])\n",
    "f'{timer.stop():.5f} sec'"
   ]
  },
  {
   "cell_type": "markdown",
   "id": "437c2b85",
   "metadata": {},
   "source": [
    "# Let’s execute the same task using the + operator to compute the elementwise sum."
   ]
  },
  {
   "cell_type": "code",
   "execution_count": 6,
   "id": "a5e246be",
   "metadata": {},
   "outputs": [
    {
     "data": {
      "text/plain": [
       "'0.00100 sec'"
      ]
     },
     "execution_count": 6,
     "metadata": {},
     "output_type": "execute_result"
    }
   ],
   "source": [
    "\n",
    "timer.start()\n",
    "d = a + b\n",
    "f'{timer.stop():.5f} sec'\n"
   ]
  },
  {
   "cell_type": "markdown",
   "id": "955ac5df",
   "metadata": {},
   "source": [
    "# As we can see, this method is much faster than using the for-loop."
   ]
  },
  {
   "cell_type": "code",
   "execution_count": null,
   "id": "4d820ba3",
   "metadata": {},
   "outputs": [],
   "source": []
  }
 ],
 "metadata": {
  "kernelspec": {
   "display_name": "Python 3 (ipykernel)",
   "language": "python",
   "name": "python3"
  },
  "language_info": {
   "codemirror_mode": {
    "name": "ipython",
    "version": 3
   },
   "file_extension": ".py",
   "mimetype": "text/x-python",
   "name": "python",
   "nbconvert_exporter": "python",
   "pygments_lexer": "ipython3",
   "version": "3.9.15"
  }
 },
 "nbformat": 4,
 "nbformat_minor": 5
}
