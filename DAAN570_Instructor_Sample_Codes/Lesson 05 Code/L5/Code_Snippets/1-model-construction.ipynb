{
 "cells": [
  {
   "cell_type": "markdown",
   "metadata": {
    "origin_pos": 0,
    "slideshow": {
     "slide_type": "slide"
    },
    "tags": []
   },
   "source": [
    "# Layers and Blocks\n",
    "\n",
    "\n",
    "\n",
    "Neurons, layers, and models provide abstractions to build Deep Neural Networks.\n",
    "\n",
    "it turns out that we need to define components that are larger than an individual layer but smaller than the entire model.\n",
    "\n",
    "\n",
    "A component consist of repeating patterns of *groups of layers*. Such\n",
    "design patterns are common in practice to implement complex networks.\n",
    "\n",
    "To implement these complex networks, we introduce the concept of a neural network *block*.\n",
    "\n",
    "A block could include a single layer, multiple layers, or the entire model itself!\n",
    "\n",
    "One benefit of working with the block abstraction is that they can be combined into larger blocks, often recursively. \n",
    "\n",
    "From a programing standpoint,  a block is represented by a *class*.\n",
    " - Any subclass of it must define a `forward propagation function`, transforming its input into output and also storing any necessary parameters.\n",
    "- Some blocks do not require any parameters at all.\n",
    "- A block must possess a `backpropagation function` to calculate gradients.\n",
    "\n",
    "Fortunately, due to some behind-the-scenes magic\n",
    "supplied by the auto differentiation (`autograd`) when defining our own block,\n",
    "you only need to worry about the block parameters and the forward propagation function.\n",
    "\n",
    "[**To begin, we revisit the code\n",
    "that we used to implement MLPs**]\n",
    "\n",
    "The following code generates a network with one fully-connected hidden layer\n",
    "with 256 units and ReLU activation, followed by a fully-connected output layer\n",
    "with 10 units (no activation function).\n"
   ]
  },
  {
   "cell_type": "code",
   "execution_count": null,
   "metadata": {
    "origin_pos": 3,
    "slideshow": {
     "slide_type": "slide"
    },
    "tab": [
     "tensorflow"
    ],
    "tags": []
   },
   "outputs": [],
   "source": [
    "import tensorflow as tf\n",
    "\n",
    "net = tf.keras.models.Sequential([\n",
    "    tf.keras.layers.Dense(256, activation=tf.nn.relu),\n",
    "    tf.keras.layers.Dense(10),])\n",
    "\n",
    "X = tf.random.uniform((2, 20))\n",
    "net(X)"
   ]
  },
  {
   "cell_type": "markdown",
   "metadata": {
    "origin_pos": 7
   },
   "source": [
    "## [**A Custom Block**]\n",
    "\n",
    "\n",
    "Each block must provide:\n",
    "\n",
    "1. Ingest input data as arguments to its forward propagation function.\n",
    "1. Generate an output by having the forward propagation function return a value. Note that the output may have a different shape from the input. For example, the first fully-connected layer in our model above ingests an      input of arbitrary dimension but returns an output of dimension 256.\n",
    "1. Calculate the gradient of its output with respect to its input, which can be accessed via its backpropagation function. Typically this happens automatically.\n",
    "1. Store and provide access to those parameters necessary\n",
    "   to execute the forward propagation computation.\n",
    "1. Initialize model parameters as needed."
   ]
  },
  {
   "cell_type": "markdown",
   "metadata": {
    "origin_pos": 7
   },
   "source": [
    "In the following snippet,\n",
    "we code up a block from scratch\n",
    "corresponding to an MLP\n",
    "with one hidden layer with 256 hidden units,\n",
    "and a 10-dimensional output layer."
   ]
  },
  {
   "cell_type": "code",
   "execution_count": null,
   "metadata": {
    "origin_pos": 10,
    "slideshow": {
     "slide_type": "slide"
    },
    "tab": [
     "tensorflow"
    ],
    "tags": []
   },
   "outputs": [],
   "source": [
    "class MLP(tf.keras.Model):\n",
    "    # Declare a layer with model parameters. Here, we declare two fully\n",
    "    # connected layers\n",
    "    def __init__(self):\n",
    "        # Call the constructor of the `MLP` parent class `Model` to perform\n",
    "        # the necessary initialization. In this way, other function arguments\n",
    "        # can also be specified during class instantiation, such as the model\n",
    "        # parameters, `params` (to be described later)\n",
    "        super().__init__()\n",
    "        # Hidden layer\n",
    "        self.hidden = tf.keras.layers.Dense(units=256, activation=tf.nn.relu)\n",
    "        self.out = tf.keras.layers.Dense(units=10)  # Output layer\n",
    "\n",
    "    # Define the forward propagation of the model, that is, how to return the\n",
    "    # required model output based on the input `X`\n",
    "    def call(self, X):\n",
    "        return self.out(self.hidden((X)))"
   ]
  },
  {
   "cell_type": "markdown",
   "metadata": {
    "origin_pos": 7
   },
   "source": [
    "Note that the `MLP` class below inherits the class that represents a block.\n",
    "We will heavily rely on the parent class's functions,\n",
    "supplying only our own constructor (the `__init__` function in Python) and the forward propagation function."
   ]
  },
  {
   "cell_type": "markdown",
   "metadata": {
    "origin_pos": 11,
    "slideshow": {
     "slide_type": "slide"
    },
    "tags": []
   },
   "source": [
    "The forward propagation function, takes `X` as the input,\n",
    "calculates the hidden representation\n",
    "with the activation function applied,\n",
    "and outputs its logits.\n",
    "\n",
    "In this `MLP` implementation,\n",
    "both layers are instance variables.\n",
    "\n",
    "To see why this is reasonable, imagine\n",
    "instantiating two MLPs, `net1` and `net2`,\n",
    "and training them on different data.\n",
    "Naturally, we would expect them\n",
    "to represent two different learned models."
   ]
  },
  {
   "cell_type": "markdown",
   "metadata": {
    "origin_pos": 11
   },
   "source": [
    "We [**instantiate the MLP's layers**]\n",
    "in the constructor\n",
    "(**and subsequently invoke these layers**)\n",
    "on each call to the forward propagation function.\n",
    "\n",
    "\n",
    "Note that the customized `__init__` function\n",
    "invokes the parent class's `__init__` function\n",
    "via `super().__init__()`\n",
    "sparing us the pain of restating\n",
    "boilerplate code applicable to most blocks.\n",
    "\n",
    "\n",
    "We then instantiate our two fully-connected layers,\n",
    "assigning them to `self.hidden` and `self.out`.\n",
    "\n",
    "Note that we need not worry about the backpropagation function\n",
    "or parameter initialization.\n",
    "\n",
    "The TensorFlow will generate these functions automatically.\n"
   ]
  },
  {
   "cell_type": "code",
   "execution_count": null,
   "metadata": {
    "origin_pos": 14,
    "tab": [
     "tensorflow"
    ]
   },
   "outputs": [],
   "source": [
    "net = MLP()\n",
    "net(X)"
   ]
  },
  {
   "cell_type": "markdown",
   "metadata": {
    "origin_pos": 15,
    "slideshow": {
     "slide_type": "slide"
    },
    "tags": []
   },
   "source": [
    "\n",
    "## [**The Sequential Block**]\n",
    "\n",
    "Recall that `Sequential` was designed to chain layers together.\n",
    "\n",
    "To build our own simplified `MySequential`, we just need to define two key function:\n",
    "1. A function to append blocks one by one to a list.\n",
    "2. A forward propagation function to pass an input through the chain of blocks, in the same order as they were appended.\n",
    "\n",
    "The following `MySequential` class delivers the same\n",
    "functionality of the default `Sequential` class.\n"
   ]
  },
  {
   "cell_type": "code",
   "execution_count": null,
   "metadata": {
    "origin_pos": 18,
    "tab": [
     "tensorflow"
    ]
   },
   "outputs": [],
   "source": [
    "class MySequential(tf.keras.Model):\n",
    "    def __init__(self, *args):\n",
    "        super().__init__()\n",
    "        self.modules = []\n",
    "        for block in args:\n",
    "            # Here, `block` is an instance of a `tf.keras.layers.Layer`\n",
    "            # subclass\n",
    "            self.modules.append(block)\n",
    "\n",
    "    def call(self, X):\n",
    "        for module in self.modules:\n",
    "            X = module(X)\n",
    "        return X"
   ]
  },
  {
   "cell_type": "markdown",
   "metadata": {
    "origin_pos": 21
   },
   "source": [
    "When our `MySequential`'s forward propagation function is invoked,\n",
    "each added block is executed\n",
    "in the order in which they were added.\n",
    "\n",
    "We can now reimplement an MLP using our `MySequential` class.\n"
   ]
  },
  {
   "cell_type": "code",
   "execution_count": null,
   "metadata": {
    "origin_pos": 24,
    "tab": [
     "tensorflow"
    ]
   },
   "outputs": [],
   "source": [
    "net = MySequential(tf.keras.layers.Dense(units=256, activation=tf.nn.relu),\n",
    "                   tf.keras.layers.Dense(10))\n",
    "net(X)"
   ]
  },
  {
   "cell_type": "markdown",
   "metadata": {
    "origin_pos": 25,
    "slideshow": {
     "slide_type": "slide"
    },
    "tags": []
   },
   "source": [
    "\n",
    "## [**Executing Code in the Forward Propagation Function**]\n",
    "\n",
    "The `Sequential` class makes model construction easy,\n",
    "allowing us to build new models without having to define our own class.\n",
    "\n",
    "However, not all architectures are simple chain of layers.\n",
    "\n",
    "However, sometimes it is required to execute\n",
    "Python's control flow within the forward propagation function or perform\n",
    "arbitrary mathematical operations without relying on predefined neural network layers.\n",
    "\n",
    "You might have noticed that until now,\n",
    "all of the operations in our networks\n",
    "have acted upon our network's activations\n",
    "and its parameters.\n",
    "\n",
    "Sometimes, however, we might want to\n",
    "incorporate terms\n",
    "that are neither the result of previous layers\n",
    "nor updatable parameters.\n",
    "\n",
    "We call these *constant parameters*.\n",
    "Say for example that we want a layer\n",
    "that calculates the function\n",
    "$f(\\mathbf{x},\\mathbf{w}) = c \\cdot \\mathbf{w}^\\top \\mathbf{x}$,\n",
    "where $\\mathbf{x}$ is the input, $\\mathbf{w}$ is our parameter,\n",
    "and $c$ is some specified constant\n",
    "that is not updated during optimization.\n",
    "\n",
    "So we implement a `FixedHiddenMLP` class as follows.\n"
   ]
  },
  {
   "cell_type": "code",
   "execution_count": null,
   "metadata": {
    "origin_pos": 28,
    "slideshow": {
     "slide_type": "slide"
    },
    "tab": [
     "tensorflow"
    ],
    "tags": []
   },
   "outputs": [],
   "source": [
    "class FixedHiddenMLP(tf.keras.Model):\n",
    "    def __init__(self):\n",
    "        super().__init__()\n",
    "        self.flatten = tf.keras.layers.Flatten()\n",
    "        # Random weight parameters created with `tf.constant` are not updated\n",
    "        # during training (i.e., constant parameters)\n",
    "        self.rand_weight = tf.constant(tf.random.uniform((20, 20)))\n",
    "        self.dense = tf.keras.layers.Dense(20, activation=tf.nn.relu)\n",
    "\n",
    "    def call(self, inputs):\n",
    "        X = self.flatten(inputs)\n",
    "        # Use the created constant parameters, as well as the `relu` and\n",
    "        # `matmul` functions\n",
    "        X = tf.nn.relu(tf.matmul(X, self.rand_weight) + 1)\n",
    "        # Reuse the fully-connected layer. This is equivalent to sharing\n",
    "        # parameters with two fully-connected layers\n",
    "        X = self.dense(X)\n",
    "        # Control flow\n",
    "        while tf.reduce_sum(tf.math.abs(X)) > 1:\n",
    "            X /= 2\n",
    "        return tf.reduce_sum(X)"
   ]
  },
  {
   "cell_type": "markdown",
   "metadata": {
    "origin_pos": 29
   },
   "source": [
    "The `FixedHiddenMLP` model implements a hidden layer whose weights\n",
    "(`self.rand_weight`) are initialized randomly\n",
    "at instantiation and are thereafter constant.\n",
    "\n",
    "Note that this weight is not a model parameter and thus it is never updated by backpropagation. as a result, the network then passes the output of this \"fixed\" layer\n",
    "through a fully-connected layer.\n",
    "\n",
    "Note also that before returning the output,\n",
    "our model ran a while-loop, testing\n",
    "on the condition its $L_1$ norm is larger than $1$,\n",
    "and dividing our output vector by $2$\n",
    "until it satisfied the condition.\n",
    "\n",
    "\n",
    "Finally, we returned the sum of the entries in `X`.\n",
    "\n",
    "To our knowledge, no standard neural network\n",
    "performs this operation.\n",
    "\n",
    "This particular operation may not be useful\n",
    "in any real-world task but it show you how to integrate\n",
    "arbitrary code (if needed) into the flow of your\n",
    "neural network computations.\n"
   ]
  },
  {
   "cell_type": "code",
   "execution_count": null,
   "metadata": {
    "origin_pos": 31,
    "tab": [
     "tensorflow"
    ]
   },
   "outputs": [],
   "source": [
    "net = FixedHiddenMLP()\n",
    "net(X)"
   ]
  },
  {
   "cell_type": "markdown",
   "metadata": {
    "origin_pos": 32
   },
   "source": [
    "It is also [**mix and match various\n",
    "ways of assembling blocks together.**]\n",
    "\n",
    "In the following example, we nest blocks\n",
    "in some creative ways.\n"
   ]
  },
  {
   "cell_type": "code",
   "execution_count": null,
   "metadata": {
    "origin_pos": 35,
    "tab": [
     "tensorflow"
    ]
   },
   "outputs": [],
   "source": [
    "class NestMLP(tf.keras.Model):\n",
    "    def __init__(self):\n",
    "        super().__init__()\n",
    "        self.net = tf.keras.Sequential()\n",
    "        self.net.add(tf.keras.layers.Dense(64, activation=tf.nn.relu))\n",
    "        self.net.add(tf.keras.layers.Dense(32, activation=tf.nn.relu))\n",
    "        self.dense = tf.keras.layers.Dense(16, activation=tf.nn.relu)\n",
    "\n",
    "    def call(self, inputs):\n",
    "        return self.dense(self.net(inputs))\n",
    "\n",
    "chimera = tf.keras.Sequential()\n",
    "chimera.add(NestMLP())\n",
    "chimera.add(tf.keras.layers.Dense(20))\n",
    "chimera.add(FixedHiddenMLP())\n",
    "chimera(X)"
   ]
  },
  {
   "cell_type": "markdown",
   "metadata": {
    "origin_pos": 40
   },
   "source": [
    "## Summary\n",
    "\n",
    "* Layers are blocks.\n",
    "* Many layers can comprise a block.\n",
    "* Many blocks can comprise a block.\n",
    "* A block can contain code.\n",
    "* Blocks take care of lots of housekeeping, including parameter initialization and backpropagation.\n",
    "* Sequential concatenations of layers and blocks are handled by the `Sequential` block.\n",
    "\n",
    "\n",
    "## Exercises (Optional)\n",
    "\n",
    "1. What kinds of problems will occur if you change `MySequential` to store blocks in a Python list?\n",
    "1. Implement a block that takes two blocks as an argument, say `net1` and `net2` and returns the concatenated output of both networks in the forward propagation. This is also called a parallel block.\n",
    "1. Assume that you want to concatenate multiple instances of the same network. Implement a factory function that generates multiple instances of the same block and build a larger network from it.\n"
   ]
  }
 ],
 "metadata": {
  "kernelspec": {
   "display_name": "Python 3 (ipykernel)",
   "language": "python",
   "name": "python3"
  },
  "language_info": {
   "codemirror_mode": {
    "name": "ipython",
    "version": 3
   },
   "file_extension": ".py",
   "mimetype": "text/x-python",
   "name": "python",
   "nbconvert_exporter": "python",
   "pygments_lexer": "ipython3",
   "version": "3.10.11"
  },
  "toc": {
   "base_numbering": 1,
   "nav_menu": {},
   "number_sections": true,
   "sideBar": true,
   "skip_h1_title": false,
   "title_cell": "Table of Contents",
   "title_sidebar": "Contents",
   "toc_cell": false,
   "toc_position": {},
   "toc_section_display": true,
   "toc_window_display": false
  },
  "varInspector": {
   "cols": {
    "lenName": 16,
    "lenType": 16,
    "lenVar": 40
   },
   "kernels_config": {
    "python": {
     "delete_cmd_postfix": "",
     "delete_cmd_prefix": "del ",
     "library": "var_list.py",
     "varRefreshCmd": "print(var_dic_list())"
    },
    "r": {
     "delete_cmd_postfix": ") ",
     "delete_cmd_prefix": "rm(",
     "library": "var_list.r",
     "varRefreshCmd": "cat(var_dic_list()) "
    }
   },
   "types_to_exclude": [
    "module",
    "function",
    "builtin_function_or_method",
    "instance",
    "_Feature"
   ],
   "window_display": true
  }
 },
 "nbformat": 4,
 "nbformat_minor": 4
}
